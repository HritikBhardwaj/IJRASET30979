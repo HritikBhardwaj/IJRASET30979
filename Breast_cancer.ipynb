{
  "nbformat": 4,
  "nbformat_minor": 0,
  "metadata": {
    "colab": {
      "name": "Breast cancer.ipynb",
      "provenance": [],
      "collapsed_sections": [],
      "authorship_tag": "ABX9TyNYwnqApkfqax4vjjuFY0DI"
    },
    "kernelspec": {
      "name": "python3",
      "display_name": "Python 3"
    }
  },
  "cells": [
    {
      "cell_type": "code",
      "metadata": {
        "id": "6NvodPWKpUJN",
        "colab_type": "code",
        "colab": {}
      },
      "source": [
        "import pandas as pd\n",
        "import numpy as np\n",
        "import matplotlib.pyplot as plt\n",
        "import seaborn as sns\n",
        "from sklearn.metrics import classification_report as rep,confusion_matrix as cm\n",
        "\n",
        "data=pd.read_csv(\"/datasets_56485_108594_Breast_cancer_data.csv\")"
      ],
      "execution_count": null,
      "outputs": []
    },
    {
      "cell_type": "code",
      "metadata": {
        "id": "6hCBtMS7qHqn",
        "colab_type": "code",
        "colab": {
          "base_uri": "https://localhost:8080/",
          "height": 204
        },
        "outputId": "156661f5-17a5-41f4-c8e0-8cd94d120f69"
      },
      "source": [
        "data.head()\n"
      ],
      "execution_count": null,
      "outputs": [
        {
          "output_type": "execute_result",
          "data": {
            "text/html": [
              "<div>\n",
              "<style scoped>\n",
              "    .dataframe tbody tr th:only-of-type {\n",
              "        vertical-align: middle;\n",
              "    }\n",
              "\n",
              "    .dataframe tbody tr th {\n",
              "        vertical-align: top;\n",
              "    }\n",
              "\n",
              "    .dataframe thead th {\n",
              "        text-align: right;\n",
              "    }\n",
              "</style>\n",
              "<table border=\"1\" class=\"dataframe\">\n",
              "  <thead>\n",
              "    <tr style=\"text-align: right;\">\n",
              "      <th></th>\n",
              "      <th>mean_radius</th>\n",
              "      <th>mean_texture</th>\n",
              "      <th>mean_perimeter</th>\n",
              "      <th>mean_area</th>\n",
              "      <th>mean_smoothness</th>\n",
              "      <th>diagnosis</th>\n",
              "    </tr>\n",
              "  </thead>\n",
              "  <tbody>\n",
              "    <tr>\n",
              "      <th>0</th>\n",
              "      <td>17.99</td>\n",
              "      <td>10.38</td>\n",
              "      <td>122.80</td>\n",
              "      <td>1001.0</td>\n",
              "      <td>0.11840</td>\n",
              "      <td>0</td>\n",
              "    </tr>\n",
              "    <tr>\n",
              "      <th>1</th>\n",
              "      <td>20.57</td>\n",
              "      <td>17.77</td>\n",
              "      <td>132.90</td>\n",
              "      <td>1326.0</td>\n",
              "      <td>0.08474</td>\n",
              "      <td>0</td>\n",
              "    </tr>\n",
              "    <tr>\n",
              "      <th>2</th>\n",
              "      <td>19.69</td>\n",
              "      <td>21.25</td>\n",
              "      <td>130.00</td>\n",
              "      <td>1203.0</td>\n",
              "      <td>0.10960</td>\n",
              "      <td>0</td>\n",
              "    </tr>\n",
              "    <tr>\n",
              "      <th>3</th>\n",
              "      <td>11.42</td>\n",
              "      <td>20.38</td>\n",
              "      <td>77.58</td>\n",
              "      <td>386.1</td>\n",
              "      <td>0.14250</td>\n",
              "      <td>0</td>\n",
              "    </tr>\n",
              "    <tr>\n",
              "      <th>4</th>\n",
              "      <td>20.29</td>\n",
              "      <td>14.34</td>\n",
              "      <td>135.10</td>\n",
              "      <td>1297.0</td>\n",
              "      <td>0.10030</td>\n",
              "      <td>0</td>\n",
              "    </tr>\n",
              "  </tbody>\n",
              "</table>\n",
              "</div>"
            ],
            "text/plain": [
              "   mean_radius  mean_texture  ...  mean_smoothness  diagnosis\n",
              "0        17.99         10.38  ...          0.11840          0\n",
              "1        20.57         17.77  ...          0.08474          0\n",
              "2        19.69         21.25  ...          0.10960          0\n",
              "3        11.42         20.38  ...          0.14250          0\n",
              "4        20.29         14.34  ...          0.10030          0\n",
              "\n",
              "[5 rows x 6 columns]"
            ]
          },
          "metadata": {
            "tags": []
          },
          "execution_count": 9
        }
      ]
    },
    {
      "cell_type": "code",
      "metadata": {
        "id": "oIw4ZiIpqNmW",
        "colab_type": "code",
        "colab": {
          "base_uri": "https://localhost:8080/",
          "height": 68
        },
        "outputId": "3358671c-d68c-4122-ff11-c240ed80139d"
      },
      "source": [
        "data.columns"
      ],
      "execution_count": null,
      "outputs": [
        {
          "output_type": "execute_result",
          "data": {
            "text/plain": [
              "Index(['mean_radius', 'mean_texture', 'mean_perimeter', 'mean_area',\n",
              "       'mean_smoothness', 'diagnosis'],\n",
              "      dtype='object')"
            ]
          },
          "metadata": {
            "tags": []
          },
          "execution_count": 10
        }
      ]
    },
    {
      "cell_type": "code",
      "metadata": {
        "id": "LHsAL57eqUjp",
        "colab_type": "code",
        "colab": {
          "base_uri": "https://localhost:8080/",
          "height": 235
        },
        "outputId": "513fea77-632d-4ae5-9486-4d6bb271a7f7"
      },
      "source": [
        "data.corr()"
      ],
      "execution_count": null,
      "outputs": [
        {
          "output_type": "execute_result",
          "data": {
            "text/html": [
              "<div>\n",
              "<style scoped>\n",
              "    .dataframe tbody tr th:only-of-type {\n",
              "        vertical-align: middle;\n",
              "    }\n",
              "\n",
              "    .dataframe tbody tr th {\n",
              "        vertical-align: top;\n",
              "    }\n",
              "\n",
              "    .dataframe thead th {\n",
              "        text-align: right;\n",
              "    }\n",
              "</style>\n",
              "<table border=\"1\" class=\"dataframe\">\n",
              "  <thead>\n",
              "    <tr style=\"text-align: right;\">\n",
              "      <th></th>\n",
              "      <th>mean_radius</th>\n",
              "      <th>mean_texture</th>\n",
              "      <th>mean_perimeter</th>\n",
              "      <th>mean_area</th>\n",
              "      <th>mean_smoothness</th>\n",
              "      <th>diagnosis</th>\n",
              "    </tr>\n",
              "  </thead>\n",
              "  <tbody>\n",
              "    <tr>\n",
              "      <th>mean_radius</th>\n",
              "      <td>1.000000</td>\n",
              "      <td>0.323782</td>\n",
              "      <td>0.997855</td>\n",
              "      <td>0.987357</td>\n",
              "      <td>0.170581</td>\n",
              "      <td>-0.730029</td>\n",
              "    </tr>\n",
              "    <tr>\n",
              "      <th>mean_texture</th>\n",
              "      <td>0.323782</td>\n",
              "      <td>1.000000</td>\n",
              "      <td>0.329533</td>\n",
              "      <td>0.321086</td>\n",
              "      <td>-0.023389</td>\n",
              "      <td>-0.415185</td>\n",
              "    </tr>\n",
              "    <tr>\n",
              "      <th>mean_perimeter</th>\n",
              "      <td>0.997855</td>\n",
              "      <td>0.329533</td>\n",
              "      <td>1.000000</td>\n",
              "      <td>0.986507</td>\n",
              "      <td>0.207278</td>\n",
              "      <td>-0.742636</td>\n",
              "    </tr>\n",
              "    <tr>\n",
              "      <th>mean_area</th>\n",
              "      <td>0.987357</td>\n",
              "      <td>0.321086</td>\n",
              "      <td>0.986507</td>\n",
              "      <td>1.000000</td>\n",
              "      <td>0.177028</td>\n",
              "      <td>-0.708984</td>\n",
              "    </tr>\n",
              "    <tr>\n",
              "      <th>mean_smoothness</th>\n",
              "      <td>0.170581</td>\n",
              "      <td>-0.023389</td>\n",
              "      <td>0.207278</td>\n",
              "      <td>0.177028</td>\n",
              "      <td>1.000000</td>\n",
              "      <td>-0.358560</td>\n",
              "    </tr>\n",
              "    <tr>\n",
              "      <th>diagnosis</th>\n",
              "      <td>-0.730029</td>\n",
              "      <td>-0.415185</td>\n",
              "      <td>-0.742636</td>\n",
              "      <td>-0.708984</td>\n",
              "      <td>-0.358560</td>\n",
              "      <td>1.000000</td>\n",
              "    </tr>\n",
              "  </tbody>\n",
              "</table>\n",
              "</div>"
            ],
            "text/plain": [
              "                 mean_radius  mean_texture  ...  mean_smoothness  diagnosis\n",
              "mean_radius         1.000000      0.323782  ...         0.170581  -0.730029\n",
              "mean_texture        0.323782      1.000000  ...        -0.023389  -0.415185\n",
              "mean_perimeter      0.997855      0.329533  ...         0.207278  -0.742636\n",
              "mean_area           0.987357      0.321086  ...         0.177028  -0.708984\n",
              "mean_smoothness     0.170581     -0.023389  ...         1.000000  -0.358560\n",
              "diagnosis          -0.730029     -0.415185  ...        -0.358560   1.000000\n",
              "\n",
              "[6 rows x 6 columns]"
            ]
          },
          "metadata": {
            "tags": []
          },
          "execution_count": 11
        }
      ]
    },
    {
      "cell_type": "code",
      "metadata": {
        "id": "nNVahVgmqYGg",
        "colab_type": "code",
        "colab": {
          "base_uri": "https://localhost:8080/",
          "height": 370
        },
        "outputId": "b205f3ea-160a-45dd-e65f-9835d5c8f9f7"
      },
      "source": [
        "sns.heatmap(data.corr())\n"
      ],
      "execution_count": null,
      "outputs": [
        {
          "output_type": "execute_result",
          "data": {
            "text/plain": [
              "<matplotlib.axes._subplots.AxesSubplot at 0x7fb46d93fe10>"
            ]
          },
          "metadata": {
            "tags": []
          },
          "execution_count": 12
        },
        {
          "output_type": "display_data",
          "data": {
            "image/png": "[encoded data removed]",
            "text/plain": [
              "<Figure size 432x288 with 2 Axes>"
            ]
          },
          "metadata": {
            "tags": [],
            "needs_background": "light"
          }
        }
      ]
    },
    {
      "cell_type": "code",
      "metadata": {
        "id": "QpUJOjywqgeD",
        "colab_type": "code",
        "colab": {}
      },
      "source": [
        "#Select independent and dependent variables\n",
        "y= data['diagnosis']\n",
        "x=data.drop(columns=['diagnosis'])"
      ],
      "execution_count": null,
      "outputs": []
    },
    {
      "cell_type": "code",
      "metadata": {
        "id": "ASaYa06zs6UA",
        "colab_type": "code",
        "colab": {
          "base_uri": "https://localhost:8080/",
          "height": 136
        },
        "outputId": "0bfeaca2-ae48-4a39-9b1e-282dcb27041e"
      },
      "source": [
        "# perform normalisation in indeoendent variables\n",
        "from sklearn.preprocessing import StandardScaler\n",
        "scale =StandardScaler()\n",
        "Xnorm=scale.fit_transform(x)\n",
        "print(\" normalised data using standarisation \", Xnorm)"
      ],
      "execution_count": null,
      "outputs": [
        {
          "output_type": "stream",
          "text": [
            " normalised data using standarisation  [[ 1.09706398 -2.07333501  1.26993369  0.9843749   1.56846633]\n",
            " [ 1.82982061 -0.35363241  1.68595471  1.90870825 -0.82696245]\n",
            " [ 1.57988811  0.45618695  1.56650313  1.55888363  0.94221044]\n",
            " ...\n",
            " [ 0.70228425  2.0455738   0.67267578  0.57795264 -0.84048388]\n",
            " [ 1.83834103  2.33645719  1.98252415  1.73521799  1.52576706]\n",
            " [-1.80840125  1.22179204 -1.81438851 -1.34778924 -3.11208479]]\n"
          ],
          "name": "stdout"
        }
      ]
    },
    {
      "cell_type": "code",
      "metadata": {
        "id": "Z_pQwzEvtEU2",
        "colab_type": "code",
        "colab": {}
      },
      "source": [
        "#Splitting the variables into into test and training sets\n",
        "from sklearn.model_selection import train_test_split \n",
        "x_train,x_test,y_train,y_test = train_test_split(Xnorm,y,test_size = 0.1,random_state=0)"
      ],
      "execution_count": null,
      "outputs": []
    },
    {
      "cell_type": "code",
      "metadata": {
        "id": "X_1vU0b5tLsm",
        "colab_type": "code",
        "colab": {
          "base_uri": "https://localhost:8080/",
          "height": 34
        },
        "outputId": "b89f97ef-6dc3-4120-81f1-43d42382a6ad"
      },
      "source": [
        "# Linear Regression Model\n",
        "\n",
        "from sklearn.linear_model import LinearRegression\n",
        "\n",
        "classifier_lr = LinearRegression()\n",
        "classifier_lr.fit(x_train,y_train)\n",
        "y_lr_pred = classifier_lr.predict(x_test)\n",
        "\n",
        "#Result\n",
        "\n",
        "classifier_lr.score(x_test,y_test)*100"
      ],
      "execution_count": null,
      "outputs": [
        {
          "output_type": "execute_result",
          "data": {
            "text/plain": [
              "64.81351846907462"
            ]
          },
          "metadata": {
            "tags": []
          },
          "execution_count": 16
        }
      ]
    },
    {
      "cell_type": "code",
      "metadata": {
        "id": "mMAdmiZNtWBm",
        "colab_type": "code",
        "colab": {
          "base_uri": "https://localhost:8080/",
          "height": 34
        },
        "outputId": "47d7c134-c6dd-4575-e33d-420d631919ab"
      },
      "source": [
        "#Logistic Regression Model\n",
        "\n",
        "from sklearn.linear_model import LogisticRegression\n",
        "log_model = LogisticRegression() \n",
        "log_model.fit(x_train, y_train) \n",
        "y_pred_log = log_model.predict(x_test) \n",
        "   \n",
        "  \n",
        "log_model.score(x_test, y_pred_log)*100"
      ],
      "execution_count": null,
      "outputs": [
        {
          "output_type": "execute_result",
          "data": {
            "text/plain": [
              "100.0"
            ]
          },
          "metadata": {
            "tags": []
          },
          "execution_count": 17
        }
      ]
    },
    {
      "cell_type": "code",
      "metadata": {
        "id": "Mn2xDyVGtg_b",
        "colab_type": "code",
        "colab": {
          "base_uri": "https://localhost:8080/",
          "height": 34
        },
        "outputId": "1833809f-1e4f-4962-ccf1-dc3fc71fb563"
      },
      "source": [
        "# XG Boost\n",
        "from xgboost import XGBClassifier\n",
        "xgboost_model = XGBClassifier()\n",
        "xgboost_model.fit(x_train, y_train)\n",
        "y_pred_xg = xgboost_model.predict(x_test)\n",
        "\n",
        "xgboost_model.score(x_test , y_pred_xg)*100"
      ],
      "execution_count": null,
      "outputs": [
        {
          "output_type": "execute_result",
          "data": {
            "text/plain": [
              "100.0"
            ]
          },
          "metadata": {
            "tags": []
          },
          "execution_count": 18
        }
      ]
    },
    {
      "cell_type": "code",
      "metadata": {
        "id": "0zJ4a_QytqwB",
        "colab_type": "code",
        "colab": {
          "base_uri": "https://localhost:8080/",
          "height": 34
        },
        "outputId": "3cbf8c43-88d8-49d5-98e9-4d5b97cacec8"
      },
      "source": [
        "# Gradient Boosting Classifier\n",
        "\n",
        "from sklearn.ensemble import GradientBoostingClassifier\n",
        "gb_model = GradientBoostingClassifier(random_state=0)\n",
        "gb_model.fit(x_train, y_train)\n",
        "y_pred_gb = gb_model.predict(x_test)\n",
        "\n",
        "gb_model.score(x_test , y_pred_gb)*100"
      ],
      "execution_count": null,
      "outputs": [
        {
          "output_type": "execute_result",
          "data": {
            "text/plain": [
              "100.0"
            ]
          },
          "metadata": {
            "tags": []
          },
          "execution_count": 19
        }
      ]
    },
    {
      "cell_type": "code",
      "metadata": {
        "id": "eWF8P8Qhtxak",
        "colab_type": "code",
        "colab": {
          "base_uri": "https://localhost:8080/",
          "height": 34
        },
        "outputId": "c95eec6d-e437-49dc-8270-c5bf32eb6fff"
      },
      "source": [
        "#Naive Bayes Classification\n",
        "\n",
        "from sklearn.naive_bayes import GaussianNB\n",
        "classifier_naive = GaussianNB()\n",
        "classifier_naive.fit(x_train, y_train)\n",
        "y_naive_pred = classifier_naive.predict(x_test)\n",
        "\n",
        "#Accuracy\n",
        "\n",
        "classifier_naive.score(x_test,y_test)*100\n"
      ],
      "execution_count": null,
      "outputs": [
        {
          "output_type": "execute_result",
          "data": {
            "text/plain": [
              "91.22807017543859"
            ]
          },
          "metadata": {
            "tags": []
          },
          "execution_count": 20
        }
      ]
    },
    {
      "cell_type": "code",
      "metadata": {
        "id": "nZu6ZYSSt3Qq",
        "colab_type": "code",
        "colab": {
          "base_uri": "https://localhost:8080/",
          "height": 34
        },
        "outputId": "f3ae49cd-c672-4322-e6bc-597c326ace6d"
      },
      "source": [
        "#Random Forest Classifier\n",
        "\n",
        "from sklearn.ensemble import RandomForestClassifier\n",
        "\n",
        "classifier_rfc = RandomForestClassifier(n_estimators=20, random_state=0)\n",
        "classifier_rfc.fit(x_train, y_train)\n",
        "y_rfc_pred = classifier_rfc.predict(x_test)\n",
        "\n",
        "#accuracy\n",
        "from sklearn.metrics import accuracy_score\n",
        "accuracy_score(y_test,y_rfc_pred)*100"
      ],
      "execution_count": null,
      "outputs": [
        {
          "output_type": "execute_result",
          "data": {
            "text/plain": [
              "92.98245614035088"
            ]
          },
          "metadata": {
            "tags": []
          },
          "execution_count": 21
        }
      ]
    },
    {
      "cell_type": "code",
      "metadata": {
        "id": "U5GQh0amt8Mv",
        "colab_type": "code",
        "colab": {
          "base_uri": "https://localhost:8080/",
          "height": 34
        },
        "outputId": "16d55bee-3f8c-4722-cf7e-024424baecc8"
      },
      "source": [
        "#Decision Tree Classifier\n",
        "\n",
        "from sklearn.tree import DecisionTreeClassifier\n",
        "classifier_dtc = DecisionTreeClassifier()\n",
        "classifier_dtc.fit(x_train,y_train)\n",
        "y_dtc_pred = classifier_dtc.predict(x_test)\n",
        "\n",
        "#accuracy\n",
        "accuracy_score(y_test,y_dtc_pred)*100\n"
      ],
      "execution_count": null,
      "outputs": [
        {
          "output_type": "execute_result",
          "data": {
            "text/plain": [
              "84.21052631578947"
            ]
          },
          "metadata": {
            "tags": []
          },
          "execution_count": 22
        }
      ]
    },
    {
      "cell_type": "code",
      "metadata": {
        "id": "UCX4etiquCk6",
        "colab_type": "code",
        "colab": {
          "base_uri": "https://localhost:8080/",
          "height": 34
        },
        "outputId": "d7926205-47e0-4808-adb6-bdcfd050d4c2"
      },
      "source": [
        "#Simple Support Vector Classification\n",
        "\n",
        "from sklearn.svm import SVC\n",
        "\n",
        "classifier_svm = SVC()\n",
        "classifier_svm.fit(x_train, y_train)\n",
        "y_svm_pred = classifier_svm.predict(x_test)\n",
        "\n",
        "#Accuracy\n",
        "classifier_svm.score(x_test,y_test) *100"
      ],
      "execution_count": null,
      "outputs": [
        {
          "output_type": "execute_result",
          "data": {
            "text/plain": [
              "91.22807017543859"
            ]
          },
          "metadata": {
            "tags": []
          },
          "execution_count": 23
        }
      ]
    },
    {
      "cell_type": "code",
      "metadata": {
        "id": "TemK7Hz9uGvo",
        "colab_type": "code",
        "colab": {
          "base_uri": "https://localhost:8080/",
          "height": 34
        },
        "outputId": "826c4edf-4d01-4b69-ee57-3517e341eb70"
      },
      "source": [
        "#Kernel Support Vector Classification\n",
        "\n",
        "from sklearn.svm import SVC\n",
        "\n",
        "classifier_svc = SVC(kernel='linear',random_state=0)\n",
        "classifier_svc.fit(x_train,y_train)\n",
        "y_svc_pred = classifier_svc.predict(x_test)\n",
        "\n",
        "#accuracy\n",
        "classifier_svc.score(x_test,y_test)*100"
      ],
      "execution_count": null,
      "outputs": [
        {
          "output_type": "execute_result",
          "data": {
            "text/plain": [
              "92.98245614035088"
            ]
          },
          "metadata": {
            "tags": []
          },
          "execution_count": 24
        }
      ]
    },
    {
      "cell_type": "code",
      "metadata": {
        "id": "cc1UOW1tuMsi",
        "colab_type": "code",
        "colab": {
          "base_uri": "https://localhost:8080/",
          "height": 34
        },
        "outputId": "2992e04e-9e5f-4c1d-a636-c1c19a2ce72c"
      },
      "source": [
        "#Stochastic Gradient Descent Classifier\n",
        "\n",
        "from sklearn.linear_model import SGDClassifier\n",
        "\n",
        "classifier_sgd= SGDClassifier(loss='modified_huber',shuffle=True,random_state=0)\n",
        "classifier_sgd.fit(x_train,y_train)\n",
        "y_sgd_pred = classifier_sgd.predict(x_test)\n",
        "\n",
        "#accuracy\n",
        "accuracy_score(y_test,y_sgd_pred)*100"
      ],
      "execution_count": null,
      "outputs": [
        {
          "output_type": "execute_result",
          "data": {
            "text/plain": [
              "89.47368421052632"
            ]
          },
          "metadata": {
            "tags": []
          },
          "execution_count": 25
        }
      ]
    },
    {
      "cell_type": "code",
      "metadata": {
        "id": "kgzk9fETuUP5",
        "colab_type": "code",
        "colab": {
          "base_uri": "https://localhost:8080/",
          "height": 1000
        },
        "outputId": "0debd4ef-2d2a-4c9c-c770-7a92f29f076c"
      },
      "source": [
        "#Results of the classifications\n",
        "\n",
        "con_log = cm(y_test,y_pred_log)\n",
        "con_xg = cm(y_test,y_pred_xg)\n",
        "con_gb = cm(y_test,y_pred_gb)\n",
        "con_naive = cm(y_test,y_naive_pred)\n",
        "con_rfc = cm(y_test,y_rfc_pred)\n",
        "con_dtc = cm(y_test,y_dtc_pred)\n",
        "con_svm = cm(y_test,y_svm_pred)\n",
        "con_svc = cm(y_test,y_svc_pred)\n",
        "con_sgd = cm(y_test,y_sgd_pred)\n",
        "\n",
        "\n",
        "print(\"LOGISTIC REGRESSION MODEL\\n\",rep(y_test,y_pred_log),\"\\n\", con_log ,\"\\n\")\n",
        "print(\"XG BOOST\\n\",rep(y_test,y_pred_xg),\"\\n\", con_xg ,\"\\n\")\n",
        "print(\"GRADIENT BOOSTING CLASSIFIER\\n\",rep(y_test,y_pred_gb),\"\\n\", con_gb ,\"\\n\")\n",
        "print(\"NAIVE BAYES RESULTS\\n\",rep(y_test,y_naive_pred),\"\\n\", con_naive ,\"\\n\")\n",
        "print(\"RANDOM FOREST CLASSIFIER RESULTS\\n\",rep(y_test,y_rfc_pred),\"\\n\" , con_rfc, \"\\n\")\n",
        "print(\"DECISION TREE RESULTS\\n\",rep(y_test,y_dtc_pred),\"\\n\" , con_dtc , \"\\n\")\n",
        "print(\"SIMPLE SUPPORT VECTOR CLASSIFICATION\\n\",rep(y_test,y_svm_pred),\"\\n\", con_svm , \"\\n\")\n",
        "print(\"KERNEL SUPPORT VECTOR CLASSIFICATION\\n\",rep(y_test,y_svc_pred),\"\\n\", con_svc , \"\\n\")\n",
        "print(\"STOCHASTIC GRADIENT DESCENT RESULTS\\n\",rep(y_test,y_sgd_pred),\"\\n\", con_sgd , \"\\n\")"
      ],
      "execution_count": null,
      "outputs": [
        {
          "output_type": "stream",
          "text": [
            "LOGISTIC REGRESSION MODEL\n",
            "               precision    recall  f1-score   support\n",
            "\n",
            "           0       0.91      0.95      0.93        22\n",
            "           1       0.97      0.94      0.96        35\n",
            "\n",
            "    accuracy                           0.95        57\n",
            "   macro avg       0.94      0.95      0.94        57\n",
            "weighted avg       0.95      0.95      0.95        57\n",
            " \n",
            " [[21  1]\n",
            " [ 2 33]] \n",
            "\n",
            "XG BOOST\n",
            "               precision    recall  f1-score   support\n",
            "\n",
            "           0       0.95      0.91      0.93        22\n",
            "           1       0.94      0.97      0.96        35\n",
            "\n",
            "    accuracy                           0.95        57\n",
            "   macro avg       0.95      0.94      0.94        57\n",
            "weighted avg       0.95      0.95      0.95        57\n",
            " \n",
            " [[20  2]\n",
            " [ 1 34]] \n",
            "\n",
            "GRADIENT BOOSTING CLASSIFIER\n",
            "               precision    recall  f1-score   support\n",
            "\n",
            "           0       0.90      0.86      0.88        22\n",
            "           1       0.92      0.94      0.93        35\n",
            "\n",
            "    accuracy                           0.91        57\n",
            "   macro avg       0.91      0.90      0.91        57\n",
            "weighted avg       0.91      0.91      0.91        57\n",
            " \n",
            " [[19  3]\n",
            " [ 2 33]] \n",
            "\n",
            "NAIVE BAYES RESULTS\n",
            "               precision    recall  f1-score   support\n",
            "\n",
            "           0       0.95      0.82      0.88        22\n",
            "           1       0.89      0.97      0.93        35\n",
            "\n",
            "    accuracy                           0.91        57\n",
            "   macro avg       0.92      0.89      0.90        57\n",
            "weighted avg       0.92      0.91      0.91        57\n",
            " \n",
            " [[18  4]\n",
            " [ 1 34]] \n",
            "\n",
            "RANDOM FOREST CLASSIFIER RESULTS\n",
            "               precision    recall  f1-score   support\n",
            "\n",
            "           0       0.91      0.91      0.91        22\n",
            "           1       0.94      0.94      0.94        35\n",
            "\n",
            "    accuracy                           0.93        57\n",
            "   macro avg       0.93      0.93      0.93        57\n",
            "weighted avg       0.93      0.93      0.93        57\n",
            " \n",
            " [[20  2]\n",
            " [ 2 33]] \n",
            "\n",
            "DECISION TREE RESULTS\n",
            "               precision    recall  f1-score   support\n",
            "\n",
            "           0       0.76      0.86      0.81        22\n",
            "           1       0.91      0.83      0.87        35\n",
            "\n",
            "    accuracy                           0.84        57\n",
            "   macro avg       0.83      0.85      0.84        57\n",
            "weighted avg       0.85      0.84      0.84        57\n",
            " \n",
            " [[19  3]\n",
            " [ 6 29]] \n",
            "\n",
            "SIMPLE SUPPORT VECTOR CLASSIFICATION\n",
            "               precision    recall  f1-score   support\n",
            "\n",
            "           0       0.90      0.86      0.88        22\n",
            "           1       0.92      0.94      0.93        35\n",
            "\n",
            "    accuracy                           0.91        57\n",
            "   macro avg       0.91      0.90      0.91        57\n",
            "weighted avg       0.91      0.91      0.91        57\n",
            " \n",
            " [[19  3]\n",
            " [ 2 33]] \n",
            "\n",
            "KERNEL SUPPORT VECTOR CLASSIFICATION\n",
            "               precision    recall  f1-score   support\n",
            "\n",
            "           0       0.88      0.95      0.91        22\n",
            "           1       0.97      0.91      0.94        35\n",
            "\n",
            "    accuracy                           0.93        57\n",
            "   macro avg       0.92      0.93      0.93        57\n",
            "weighted avg       0.93      0.93      0.93        57\n",
            " \n",
            " [[21  1]\n",
            " [ 3 32]] \n",
            "\n",
            "STOCHASTIC GRADIENT DESCENT RESULTS\n",
            "               precision    recall  f1-score   support\n",
            "\n",
            "           0       0.83      0.91      0.87        22\n",
            "           1       0.94      0.89      0.91        35\n",
            "\n",
            "    accuracy                           0.89        57\n",
            "   macro avg       0.89      0.90      0.89        57\n",
            "weighted avg       0.90      0.89      0.90        57\n",
            " \n",
            " [[20  2]\n",
            " [ 4 31]] \n",
            "\n"
          ],
          "name": "stdout"
        }
      ]
    },
    {
      "cell_type": "code",
      "metadata": {
        "id": "Ru16JtFRuaVW",
        "colab_type": "code",
        "colab": {
          "base_uri": "https://localhost:8080/",
          "height": 419
        },
        "outputId": "45f7bded-058c-4933-b6ad-59ee490bdd48"
      },
      "source": [
        "predicted_class= classifier_svc.predict(x)\n",
        "data['Predicted diagnosis']= predicted_class\n",
        "data[['diagnosis','Predicted diagnosis']]"
      ],
      "execution_count": null,
      "outputs": [
        {
          "output_type": "execute_result",
          "data": {
            "text/html": [
              "<div>\n",
              "<style scoped>\n",
              "    .dataframe tbody tr th:only-of-type {\n",
              "        vertical-align: middle;\n",
              "    }\n",
              "\n",
              "    .dataframe tbody tr th {\n",
              "        vertical-align: top;\n",
              "    }\n",
              "\n",
              "    .dataframe thead th {\n",
              "        text-align: right;\n",
              "    }\n",
              "</style>\n",
              "<table border=\"1\" class=\"dataframe\">\n",
              "  <thead>\n",
              "    <tr style=\"text-align: right;\">\n",
              "      <th></th>\n",
              "      <th>diagnosis</th>\n",
              "      <th>Predicted diagnosis</th>\n",
              "    </tr>\n",
              "  </thead>\n",
              "  <tbody>\n",
              "    <tr>\n",
              "      <th>0</th>\n",
              "      <td>0</td>\n",
              "      <td>0</td>\n",
              "    </tr>\n",
              "    <tr>\n",
              "      <th>1</th>\n",
              "      <td>0</td>\n",
              "      <td>0</td>\n",
              "    </tr>\n",
              "    <tr>\n",
              "      <th>2</th>\n",
              "      <td>0</td>\n",
              "      <td>0</td>\n",
              "    </tr>\n",
              "    <tr>\n",
              "      <th>3</th>\n",
              "      <td>0</td>\n",
              "      <td>0</td>\n",
              "    </tr>\n",
              "    <tr>\n",
              "      <th>4</th>\n",
              "      <td>0</td>\n",
              "      <td>0</td>\n",
              "    </tr>\n",
              "    <tr>\n",
              "      <th>...</th>\n",
              "      <td>...</td>\n",
              "      <td>...</td>\n",
              "    </tr>\n",
              "    <tr>\n",
              "      <th>564</th>\n",
              "      <td>0</td>\n",
              "      <td>0</td>\n",
              "    </tr>\n",
              "    <tr>\n",
              "      <th>565</th>\n",
              "      <td>0</td>\n",
              "      <td>0</td>\n",
              "    </tr>\n",
              "    <tr>\n",
              "      <th>566</th>\n",
              "      <td>0</td>\n",
              "      <td>0</td>\n",
              "    </tr>\n",
              "    <tr>\n",
              "      <th>567</th>\n",
              "      <td>0</td>\n",
              "      <td>0</td>\n",
              "    </tr>\n",
              "    <tr>\n",
              "      <th>568</th>\n",
              "      <td>1</td>\n",
              "      <td>0</td>\n",
              "    </tr>\n",
              "  </tbody>\n",
              "</table>\n",
              "<p>569 rows × 2 columns</p>\n",
              "</div>"
            ],
            "text/plain": [
              "     diagnosis  Predicted diagnosis\n",
              "0            0                    0\n",
              "1            0                    0\n",
              "2            0                    0\n",
              "3            0                    0\n",
              "4            0                    0\n",
              "..         ...                  ...\n",
              "564          0                    0\n",
              "565          0                    0\n",
              "566          0                    0\n",
              "567          0                    0\n",
              "568          1                    0\n",
              "\n",
              "[569 rows x 2 columns]"
            ]
          },
          "metadata": {
            "tags": []
          },
          "execution_count": 27
        }
      ]
    },
    {
      "cell_type": "code",
      "metadata": {
        "id": "7HhBJP-YvKiM",
        "colab_type": "code",
        "colab": {}
      },
      "source": [
        ""
      ],
      "execution_count": null,
      "outputs": []
    }
  ]
}