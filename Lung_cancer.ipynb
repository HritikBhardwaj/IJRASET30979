{
  "nbformat": 4,
  "nbformat_minor": 0,
  "metadata": {
    "colab": {
      "name": "Lung cancer.ipynb",
      "provenance": [],
      "authorship_tag": "ABX9TyN/qVaRNZoaXPZiI9aNLL6C"
    },
    "kernelspec": {
      "name": "python3",
      "display_name": "Python 3"
    }
  },
  "cells": [
    {
      "cell_type": "code",
      "metadata": {
        "id": "wF_14bCWlE8C",
        "colab_type": "code",
        "colab": {
          "base_uri": "https://localhost:8080/",
          "height": 71
        },
        "outputId": "ec9ce3b6-8bb2-43d5-993d-ed2c27e80546"
      },
      "source": [
        "import pandas as pd\n",
        "import numpy as np\n",
        "import matplotlib.pyplot as plt\n",
        "import seaborn as sns\n",
        "from sklearn.metrics import classification_report as rep,confusion_matrix as cm\n",
        "\n",
        "data=pd.read_csv(\"/lung_cancer2.csv\")"
      ],
      "execution_count": null,
      "outputs": [
        {
          "output_type": "stream",
          "text": [
            "/usr/local/lib/python3.6/dist-packages/statsmodels/tools/_testing.py:19: FutureWarning: pandas.util.testing is deprecated. Use the functions in the public API at pandas.testing instead.\n",
            "  import pandas.util.testing as tm\n"
          ],
          "name": "stderr"
        }
      ]
    },
    {
      "cell_type": "code",
      "metadata": {
        "id": "no-ed6X8nVaX",
        "colab_type": "code",
        "colab": {
          "base_uri": "https://localhost:8080/",
          "height": 204
        },
        "outputId": "9f0bc815-15b7-43f8-af28-749c62308a4c"
      },
      "source": [
        "data.head()"
      ],
      "execution_count": null,
      "outputs": [
        {
          "output_type": "execute_result",
          "data": {
            "text/html": [
              "<div>\n",
              "<style scoped>\n",
              "    .dataframe tbody tr th:only-of-type {\n",
              "        vertical-align: middle;\n",
              "    }\n",
              "\n",
              "    .dataframe tbody tr th {\n",
              "        vertical-align: top;\n",
              "    }\n",
              "\n",
              "    .dataframe thead th {\n",
              "        text-align: right;\n",
              "    }\n",
              "</style>\n",
              "<table border=\"1\" class=\"dataframe\">\n",
              "  <thead>\n",
              "    <tr style=\"text-align: right;\">\n",
              "      <th></th>\n",
              "      <th>Name</th>\n",
              "      <th>Member_ID</th>\n",
              "      <th>Diagnosis</th>\n",
              "      <th>Age</th>\n",
              "      <th>Smokes</th>\n",
              "      <th>Smokes (years)</th>\n",
              "      <th>Smokes (packs/year)</th>\n",
              "      <th>AreaQ</th>\n",
              "      <th>Alkhol</th>\n",
              "      <th>family history</th>\n",
              "      <th>Result</th>\n",
              "    </tr>\n",
              "  </thead>\n",
              "  <tbody>\n",
              "    <tr>\n",
              "      <th>0</th>\n",
              "      <td>Wick</td>\n",
              "      <td>91550</td>\n",
              "      <td>M</td>\n",
              "      <td>35</td>\n",
              "      <td>3</td>\n",
              "      <td>0.0</td>\n",
              "      <td>0.0</td>\n",
              "      <td>5</td>\n",
              "      <td>4</td>\n",
              "      <td>0</td>\n",
              "      <td>1</td>\n",
              "    </tr>\n",
              "    <tr>\n",
              "      <th>1</th>\n",
              "      <td>Constantine</td>\n",
              "      <td>915664</td>\n",
              "      <td>M</td>\n",
              "      <td>27</td>\n",
              "      <td>20</td>\n",
              "      <td>0.0</td>\n",
              "      <td>0.0</td>\n",
              "      <td>2</td>\n",
              "      <td>5</td>\n",
              "      <td>0</td>\n",
              "      <td>1</td>\n",
              "    </tr>\n",
              "    <tr>\n",
              "      <th>2</th>\n",
              "      <td>Anderson</td>\n",
              "      <td>915691</td>\n",
              "      <td>M</td>\n",
              "      <td>30</td>\n",
              "      <td>0</td>\n",
              "      <td>0.0</td>\n",
              "      <td>0.0</td>\n",
              "      <td>5</td>\n",
              "      <td>2</td>\n",
              "      <td>0</td>\n",
              "      <td>0</td>\n",
              "    </tr>\n",
              "    <tr>\n",
              "      <th>3</th>\n",
              "      <td>Telles</td>\n",
              "      <td>915940</td>\n",
              "      <td>M</td>\n",
              "      <td>28</td>\n",
              "      <td>0</td>\n",
              "      <td>37.0</td>\n",
              "      <td>37.0</td>\n",
              "      <td>8</td>\n",
              "      <td>1</td>\n",
              "      <td>1</td>\n",
              "      <td>0</td>\n",
              "    </tr>\n",
              "    <tr>\n",
              "      <th>4</th>\n",
              "      <td>Maradona</td>\n",
              "      <td>91594602</td>\n",
              "      <td>M</td>\n",
              "      <td>68</td>\n",
              "      <td>4</td>\n",
              "      <td>0.0</td>\n",
              "      <td>0.0</td>\n",
              "      <td>5</td>\n",
              "      <td>6</td>\n",
              "      <td>0</td>\n",
              "      <td>1</td>\n",
              "    </tr>\n",
              "  </tbody>\n",
              "</table>\n",
              "</div>"
            ],
            "text/plain": [
              "          Name  Member_ID Diagnosis  Age  ...  AreaQ  Alkhol  family history  Result\n",
              "0         Wick      91550         M   35  ...      5       4               0       1\n",
              "1  Constantine     915664         M   27  ...      2       5               0       1\n",
              "2     Anderson     915691         M   30  ...      5       2               0       0\n",
              "3       Telles     915940         M   28  ...      8       1               1       0\n",
              "4     Maradona   91594602         M   68  ...      5       6               0       1\n",
              "\n",
              "[5 rows x 11 columns]"
            ]
          },
          "metadata": {
            "tags": []
          },
          "execution_count": 2
        }
      ]
    },
    {
      "cell_type": "code",
      "metadata": {
        "id": "W3cnMKd3n-Cj",
        "colab_type": "code",
        "colab": {
          "base_uri": "https://localhost:8080/",
          "height": 68
        },
        "outputId": "2212eb75-4ceb-4dc0-dad6-5e5ed69a8169"
      },
      "source": [
        "data.columns"
      ],
      "execution_count": null,
      "outputs": [
        {
          "output_type": "execute_result",
          "data": {
            "text/plain": [
              "Index(['Name', 'Member_ID', 'Diagnosis', 'Age', 'Smokes', 'Smokes (years)',\n",
              "       'Smokes (packs/year)', 'AreaQ', 'Alkhol', 'family history', 'Result'],\n",
              "      dtype='object')"
            ]
          },
          "metadata": {
            "tags": []
          },
          "execution_count": 7
        }
      ]
    },
    {
      "cell_type": "code",
      "metadata": {
        "id": "aotgYRBWoZcT",
        "colab_type": "code",
        "colab": {
          "base_uri": "https://localhost:8080/",
          "height": 328
        },
        "outputId": "37f65575-b83d-4f7e-dbda-7a9f60b5e8f2"
      },
      "source": [
        "data.corr()"
      ],
      "execution_count": null,
      "outputs": [
        {
          "output_type": "execute_result",
          "data": {
            "text/html": [
              "<div>\n",
              "<style scoped>\n",
              "    .dataframe tbody tr th:only-of-type {\n",
              "        vertical-align: middle;\n",
              "    }\n",
              "\n",
              "    .dataframe tbody tr th {\n",
              "        vertical-align: top;\n",
              "    }\n",
              "\n",
              "    .dataframe thead th {\n",
              "        text-align: right;\n",
              "    }\n",
              "</style>\n",
              "<table border=\"1\" class=\"dataframe\">\n",
              "  <thead>\n",
              "    <tr style=\"text-align: right;\">\n",
              "      <th></th>\n",
              "      <th>Member_ID</th>\n",
              "      <th>Age</th>\n",
              "      <th>Smokes</th>\n",
              "      <th>Smokes (years)</th>\n",
              "      <th>Smokes (packs/year)</th>\n",
              "      <th>AreaQ</th>\n",
              "      <th>Alkhol</th>\n",
              "      <th>family history</th>\n",
              "      <th>Result</th>\n",
              "    </tr>\n",
              "  </thead>\n",
              "  <tbody>\n",
              "    <tr>\n",
              "      <th>Member_ID</th>\n",
              "      <td>1.000000</td>\n",
              "      <td>0.053895</td>\n",
              "      <td>0.030370</td>\n",
              "      <td>0.014901</td>\n",
              "      <td>-0.016648</td>\n",
              "      <td>-0.028592</td>\n",
              "      <td>0.005043</td>\n",
              "      <td>-0.033763</td>\n",
              "      <td>0.045809</td>\n",
              "    </tr>\n",
              "    <tr>\n",
              "      <th>Age</th>\n",
              "      <td>0.053895</td>\n",
              "      <td>1.000000</td>\n",
              "      <td>0.053665</td>\n",
              "      <td>-0.016531</td>\n",
              "      <td>-0.103422</td>\n",
              "      <td>-0.268957</td>\n",
              "      <td>0.318621</td>\n",
              "      <td>-0.124552</td>\n",
              "      <td>0.637726</td>\n",
              "    </tr>\n",
              "    <tr>\n",
              "      <th>Smokes</th>\n",
              "      <td>0.030370</td>\n",
              "      <td>0.053665</td>\n",
              "      <td>1.000000</td>\n",
              "      <td>-0.105877</td>\n",
              "      <td>-0.203021</td>\n",
              "      <td>-0.353295</td>\n",
              "      <td>0.469915</td>\n",
              "      <td>0.000728</td>\n",
              "      <td>0.373444</td>\n",
              "    </tr>\n",
              "    <tr>\n",
              "      <th>Smokes (years)</th>\n",
              "      <td>0.014901</td>\n",
              "      <td>-0.016531</td>\n",
              "      <td>-0.105877</td>\n",
              "      <td>1.000000</td>\n",
              "      <td>0.797695</td>\n",
              "      <td>0.249845</td>\n",
              "      <td>-0.210502</td>\n",
              "      <td>0.018319</td>\n",
              "      <td>-0.199286</td>\n",
              "    </tr>\n",
              "    <tr>\n",
              "      <th>Smokes (packs/year)</th>\n",
              "      <td>-0.016648</td>\n",
              "      <td>-0.103422</td>\n",
              "      <td>-0.203021</td>\n",
              "      <td>0.797695</td>\n",
              "      <td>1.000000</td>\n",
              "      <td>0.166865</td>\n",
              "      <td>-0.151494</td>\n",
              "      <td>0.135200</td>\n",
              "      <td>-0.153704</td>\n",
              "    </tr>\n",
              "    <tr>\n",
              "      <th>AreaQ</th>\n",
              "      <td>-0.028592</td>\n",
              "      <td>-0.268957</td>\n",
              "      <td>-0.353295</td>\n",
              "      <td>0.249845</td>\n",
              "      <td>0.166865</td>\n",
              "      <td>1.000000</td>\n",
              "      <td>-0.714412</td>\n",
              "      <td>0.132520</td>\n",
              "      <td>-0.746621</td>\n",
              "    </tr>\n",
              "    <tr>\n",
              "      <th>Alkhol</th>\n",
              "      <td>0.005043</td>\n",
              "      <td>0.318621</td>\n",
              "      <td>0.469915</td>\n",
              "      <td>-0.210502</td>\n",
              "      <td>-0.151494</td>\n",
              "      <td>-0.714412</td>\n",
              "      <td>1.000000</td>\n",
              "      <td>-0.135589</td>\n",
              "      <td>0.810439</td>\n",
              "    </tr>\n",
              "    <tr>\n",
              "      <th>family history</th>\n",
              "      <td>-0.033763</td>\n",
              "      <td>-0.124552</td>\n",
              "      <td>0.000728</td>\n",
              "      <td>0.018319</td>\n",
              "      <td>0.135200</td>\n",
              "      <td>0.132520</td>\n",
              "      <td>-0.135589</td>\n",
              "      <td>1.000000</td>\n",
              "      <td>-0.191686</td>\n",
              "    </tr>\n",
              "    <tr>\n",
              "      <th>Result</th>\n",
              "      <td>0.045809</td>\n",
              "      <td>0.637726</td>\n",
              "      <td>0.373444</td>\n",
              "      <td>-0.199286</td>\n",
              "      <td>-0.153704</td>\n",
              "      <td>-0.746621</td>\n",
              "      <td>0.810439</td>\n",
              "      <td>-0.191686</td>\n",
              "      <td>1.000000</td>\n",
              "    </tr>\n",
              "  </tbody>\n",
              "</table>\n",
              "</div>"
            ],
            "text/plain": [
              "                     Member_ID       Age  ...  family history    Result\n",
              "Member_ID             1.000000  0.053895  ...       -0.033763  0.045809\n",
              "Age                   0.053895  1.000000  ...       -0.124552  0.637726\n",
              "Smokes                0.030370  0.053665  ...        0.000728  0.373444\n",
              "Smokes (years)        0.014901 -0.016531  ...        0.018319 -0.199286\n",
              "Smokes (packs/year)  -0.016648 -0.103422  ...        0.135200 -0.153704\n",
              "AreaQ                -0.028592 -0.268957  ...        0.132520 -0.746621\n",
              "Alkhol                0.005043  0.318621  ...       -0.135589  0.810439\n",
              "family history       -0.033763 -0.124552  ...        1.000000 -0.191686\n",
              "Result                0.045809  0.637726  ...       -0.191686  1.000000\n",
              "\n",
              "[9 rows x 9 columns]"
            ]
          },
          "metadata": {
            "tags": []
          },
          "execution_count": 8
        }
      ]
    },
    {
      "cell_type": "code",
      "metadata": {
        "id": "h-hCiDucocwy",
        "colab_type": "code",
        "colab": {
          "base_uri": "https://localhost:8080/",
          "height": 380
        },
        "outputId": "618a7927-f35e-48b8-8b3a-69a3bb393085"
      },
      "source": [
        "sns.heatmap(data.corr())"
      ],
      "execution_count": null,
      "outputs": [
        {
          "output_type": "execute_result",
          "data": {
            "text/plain": [
              "<matplotlib.axes._subplots.AxesSubplot at 0x7f613f3b1518>"
            ]
          },
          "metadata": {
            "tags": []
          },
          "execution_count": 9
        },
        {
          "output_type": "display_data",
          "data": {
            "image/png": "[encoded data removed]",
            "text/plain": [
              "<Figure size 432x288 with 2 Axes>"
            ]
          },
          "metadata": {
            "tags": [],
            "needs_background": "light"
          }
        }
      ]
    },
    {
      "cell_type": "code",
      "metadata": {
        "id": "4dG-zaczo0Zw",
        "colab_type": "code",
        "colab": {
          "base_uri": "https://localhost:8080/",
          "height": 419
        },
        "outputId": "7f498256-dbca-4956-ed8e-d58c07d34146"
      },
      "source": [
        "from sklearn import preprocessing\n",
        "\n",
        "# label_encoder object knows how to understand word labels. \n",
        "label_encoder = preprocessing.LabelEncoder() \n",
        "  \n",
        "# Encode labels in column gender\n",
        "data[\"Diagnosis\"]= label_encoder.fit_transform(data[\"Diagnosis\"]) \n",
        "data"
      ],
      "execution_count": null,
      "outputs": [
        {
          "output_type": "execute_result",
          "data": {
            "text/html": [
              "<div>\n",
              "<style scoped>\n",
              "    .dataframe tbody tr th:only-of-type {\n",
              "        vertical-align: middle;\n",
              "    }\n",
              "\n",
              "    .dataframe tbody tr th {\n",
              "        vertical-align: top;\n",
              "    }\n",
              "\n",
              "    .dataframe thead th {\n",
              "        text-align: right;\n",
              "    }\n",
              "</style>\n",
              "<table border=\"1\" class=\"dataframe\">\n",
              "  <thead>\n",
              "    <tr style=\"text-align: right;\">\n",
              "      <th></th>\n",
              "      <th>Name</th>\n",
              "      <th>Member_ID</th>\n",
              "      <th>Diagnosis</th>\n",
              "      <th>Age</th>\n",
              "      <th>Smokes</th>\n",
              "      <th>Smokes (years)</th>\n",
              "      <th>Smokes (packs/year)</th>\n",
              "      <th>AreaQ</th>\n",
              "      <th>Alkhol</th>\n",
              "      <th>family history</th>\n",
              "      <th>Result</th>\n",
              "    </tr>\n",
              "  </thead>\n",
              "  <tbody>\n",
              "    <tr>\n",
              "      <th>0</th>\n",
              "      <td>Wick</td>\n",
              "      <td>91550</td>\n",
              "      <td>1</td>\n",
              "      <td>35</td>\n",
              "      <td>3</td>\n",
              "      <td>0.0</td>\n",
              "      <td>0.0</td>\n",
              "      <td>5</td>\n",
              "      <td>4</td>\n",
              "      <td>0</td>\n",
              "      <td>1</td>\n",
              "    </tr>\n",
              "    <tr>\n",
              "      <th>1</th>\n",
              "      <td>Constantine</td>\n",
              "      <td>915664</td>\n",
              "      <td>1</td>\n",
              "      <td>27</td>\n",
              "      <td>20</td>\n",
              "      <td>0.0</td>\n",
              "      <td>0.0</td>\n",
              "      <td>2</td>\n",
              "      <td>5</td>\n",
              "      <td>0</td>\n",
              "      <td>1</td>\n",
              "    </tr>\n",
              "    <tr>\n",
              "      <th>2</th>\n",
              "      <td>Anderson</td>\n",
              "      <td>915691</td>\n",
              "      <td>1</td>\n",
              "      <td>30</td>\n",
              "      <td>0</td>\n",
              "      <td>0.0</td>\n",
              "      <td>0.0</td>\n",
              "      <td>5</td>\n",
              "      <td>2</td>\n",
              "      <td>0</td>\n",
              "      <td>0</td>\n",
              "    </tr>\n",
              "    <tr>\n",
              "      <th>3</th>\n",
              "      <td>Telles</td>\n",
              "      <td>915940</td>\n",
              "      <td>1</td>\n",
              "      <td>28</td>\n",
              "      <td>0</td>\n",
              "      <td>37.0</td>\n",
              "      <td>37.0</td>\n",
              "      <td>8</td>\n",
              "      <td>1</td>\n",
              "      <td>1</td>\n",
              "      <td>0</td>\n",
              "    </tr>\n",
              "    <tr>\n",
              "      <th>4</th>\n",
              "      <td>Maradona</td>\n",
              "      <td>91594602</td>\n",
              "      <td>1</td>\n",
              "      <td>68</td>\n",
              "      <td>4</td>\n",
              "      <td>0.0</td>\n",
              "      <td>0.0</td>\n",
              "      <td>5</td>\n",
              "      <td>6</td>\n",
              "      <td>0</td>\n",
              "      <td>1</td>\n",
              "    </tr>\n",
              "    <tr>\n",
              "      <th>...</th>\n",
              "      <td>...</td>\n",
              "      <td>...</td>\n",
              "      <td>...</td>\n",
              "      <td>...</td>\n",
              "      <td>...</td>\n",
              "      <td>...</td>\n",
              "      <td>...</td>\n",
              "      <td>...</td>\n",
              "      <td>...</td>\n",
              "      <td>...</td>\n",
              "      <td>...</td>\n",
              "    </tr>\n",
              "    <tr>\n",
              "      <th>1293</th>\n",
              "      <td>Borgnine</td>\n",
              "      <td>926424</td>\n",
              "      <td>1</td>\n",
              "      <td>26</td>\n",
              "      <td>13</td>\n",
              "      <td>0.0</td>\n",
              "      <td>0.0</td>\n",
              "      <td>6</td>\n",
              "      <td>1</td>\n",
              "      <td>0</td>\n",
              "      <td>0</td>\n",
              "    </tr>\n",
              "    <tr>\n",
              "      <th>1294</th>\n",
              "      <td>Guinness</td>\n",
              "      <td>926682</td>\n",
              "      <td>0</td>\n",
              "      <td>77</td>\n",
              "      <td>20</td>\n",
              "      <td>0.0</td>\n",
              "      <td>0.0</td>\n",
              "      <td>5</td>\n",
              "      <td>4</td>\n",
              "      <td>0</td>\n",
              "      <td>1</td>\n",
              "    </tr>\n",
              "    <tr>\n",
              "      <th>1295</th>\n",
              "      <td>Heston</td>\n",
              "      <td>926954</td>\n",
              "      <td>1</td>\n",
              "      <td>75</td>\n",
              "      <td>15</td>\n",
              "      <td>0.0</td>\n",
              "      <td>0.0</td>\n",
              "      <td>3</td>\n",
              "      <td>5</td>\n",
              "      <td>0</td>\n",
              "      <td>1</td>\n",
              "    </tr>\n",
              "    <tr>\n",
              "      <th>1296</th>\n",
              "      <td>Peck</td>\n",
              "      <td>927241</td>\n",
              "      <td>1</td>\n",
              "      <td>43</td>\n",
              "      <td>30</td>\n",
              "      <td>7.0</td>\n",
              "      <td>1.6</td>\n",
              "      <td>3</td>\n",
              "      <td>8</td>\n",
              "      <td>0</td>\n",
              "      <td>1</td>\n",
              "    </tr>\n",
              "    <tr>\n",
              "      <th>1297</th>\n",
              "      <td>Poitier</td>\n",
              "      <td>92751</td>\n",
              "      <td>0</td>\n",
              "      <td>51</td>\n",
              "      <td>25</td>\n",
              "      <td>0.0</td>\n",
              "      <td>0.0</td>\n",
              "      <td>9</td>\n",
              "      <td>0</td>\n",
              "      <td>1</td>\n",
              "      <td>0</td>\n",
              "    </tr>\n",
              "  </tbody>\n",
              "</table>\n",
              "<p>1298 rows × 11 columns</p>\n",
              "</div>"
            ],
            "text/plain": [
              "             Name  Member_ID  Diagnosis  ...  Alkhol  family history  Result\n",
              "0            Wick      91550          1  ...       4               0       1\n",
              "1     Constantine     915664          1  ...       5               0       1\n",
              "2        Anderson     915691          1  ...       2               0       0\n",
              "3          Telles     915940          1  ...       1               1       0\n",
              "4        Maradona   91594602          1  ...       6               0       1\n",
              "...           ...        ...        ...  ...     ...             ...     ...\n",
              "1293     Borgnine     926424          1  ...       1               0       0\n",
              "1294     Guinness     926682          0  ...       4               0       1\n",
              "1295       Heston     926954          1  ...       5               0       1\n",
              "1296         Peck     927241          1  ...       8               0       1\n",
              "1297      Poitier      92751          0  ...       0               1       0\n",
              "\n",
              "[1298 rows x 11 columns]"
            ]
          },
          "metadata": {
            "tags": []
          },
          "execution_count": 10
        }
      ]
    },
    {
      "cell_type": "code",
      "metadata": {
        "id": "7GdRAeq0s3XZ",
        "colab_type": "code",
        "colab": {
          "base_uri": "https://localhost:8080/",
          "height": 221
        },
        "outputId": "ff812735-78ab-41c0-efa6-0da114465c09"
      },
      "source": [
        "\n",
        "data.isnull().any()"
      ],
      "execution_count": null,
      "outputs": [
        {
          "output_type": "execute_result",
          "data": {
            "text/plain": [
              "Name                   False\n",
              "Member_ID              False\n",
              "Diagnosis              False\n",
              "Age                    False\n",
              "Smokes                 False\n",
              "Smokes (years)         False\n",
              "Smokes (packs/year)    False\n",
              "AreaQ                  False\n",
              "Alkhol                 False\n",
              "family history         False\n",
              "Result                 False\n",
              "dtype: bool"
            ]
          },
          "metadata": {
            "tags": []
          },
          "execution_count": 11
        }
      ]
    },
    {
      "cell_type": "code",
      "metadata": {
        "id": "gDk26_FuokKw",
        "colab_type": "code",
        "colab": {
          "base_uri": "https://localhost:8080/",
          "height": 419
        },
        "outputId": "fe5ccb36-5b66-499b-e371-e8a6b04dbb9f"
      },
      "source": [
        "#Select independent and dependent variables\n",
        "y= data['Result']\n",
        "x=data.drop(columns=['Result','Name','Member_ID'])\n",
        "x\n",
        "\n"
      ],
      "execution_count": null,
      "outputs": [
        {
          "output_type": "execute_result",
          "data": {
            "text/html": [
              "<div>\n",
              "<style scoped>\n",
              "    .dataframe tbody tr th:only-of-type {\n",
              "        vertical-align: middle;\n",
              "    }\n",
              "\n",
              "    .dataframe tbody tr th {\n",
              "        vertical-align: top;\n",
              "    }\n",
              "\n",
              "    .dataframe thead th {\n",
              "        text-align: right;\n",
              "    }\n",
              "</style>\n",
              "<table border=\"1\" class=\"dataframe\">\n",
              "  <thead>\n",
              "    <tr style=\"text-align: right;\">\n",
              "      <th></th>\n",
              "      <th>Diagnosis</th>\n",
              "      <th>Age</th>\n",
              "      <th>Smokes</th>\n",
              "      <th>Smokes (years)</th>\n",
              "      <th>Smokes (packs/year)</th>\n",
              "      <th>AreaQ</th>\n",
              "      <th>Alkhol</th>\n",
              "      <th>family history</th>\n",
              "    </tr>\n",
              "  </thead>\n",
              "  <tbody>\n",
              "    <tr>\n",
              "      <th>0</th>\n",
              "      <td>1</td>\n",
              "      <td>35</td>\n",
              "      <td>3</td>\n",
              "      <td>0.0</td>\n",
              "      <td>0.0</td>\n",
              "      <td>5</td>\n",
              "      <td>4</td>\n",
              "      <td>0</td>\n",
              "    </tr>\n",
              "    <tr>\n",
              "      <th>1</th>\n",
              "      <td>1</td>\n",
              "      <td>27</td>\n",
              "      <td>20</td>\n",
              "      <td>0.0</td>\n",
              "      <td>0.0</td>\n",
              "      <td>2</td>\n",
              "      <td>5</td>\n",
              "      <td>0</td>\n",
              "    </tr>\n",
              "    <tr>\n",
              "      <th>2</th>\n",
              "      <td>1</td>\n",
              "      <td>30</td>\n",
              "      <td>0</td>\n",
              "      <td>0.0</td>\n",
              "      <td>0.0</td>\n",
              "      <td>5</td>\n",
              "      <td>2</td>\n",
              "      <td>0</td>\n",
              "    </tr>\n",
              "    <tr>\n",
              "      <th>3</th>\n",
              "      <td>1</td>\n",
              "      <td>28</td>\n",
              "      <td>0</td>\n",
              "      <td>37.0</td>\n",
              "      <td>37.0</td>\n",
              "      <td>8</td>\n",
              "      <td>1</td>\n",
              "      <td>1</td>\n",
              "    </tr>\n",
              "    <tr>\n",
              "      <th>4</th>\n",
              "      <td>1</td>\n",
              "      <td>68</td>\n",
              "      <td>4</td>\n",
              "      <td>0.0</td>\n",
              "      <td>0.0</td>\n",
              "      <td>5</td>\n",
              "      <td>6</td>\n",
              "      <td>0</td>\n",
              "    </tr>\n",
              "    <tr>\n",
              "      <th>...</th>\n",
              "      <td>...</td>\n",
              "      <td>...</td>\n",
              "      <td>...</td>\n",
              "      <td>...</td>\n",
              "      <td>...</td>\n",
              "      <td>...</td>\n",
              "      <td>...</td>\n",
              "      <td>...</td>\n",
              "    </tr>\n",
              "    <tr>\n",
              "      <th>1293</th>\n",
              "      <td>1</td>\n",
              "      <td>26</td>\n",
              "      <td>13</td>\n",
              "      <td>0.0</td>\n",
              "      <td>0.0</td>\n",
              "      <td>6</td>\n",
              "      <td>1</td>\n",
              "      <td>0</td>\n",
              "    </tr>\n",
              "    <tr>\n",
              "      <th>1294</th>\n",
              "      <td>0</td>\n",
              "      <td>77</td>\n",
              "      <td>20</td>\n",
              "      <td>0.0</td>\n",
              "      <td>0.0</td>\n",
              "      <td>5</td>\n",
              "      <td>4</td>\n",
              "      <td>0</td>\n",
              "    </tr>\n",
              "    <tr>\n",
              "      <th>1295</th>\n",
              "      <td>1</td>\n",
              "      <td>75</td>\n",
              "      <td>15</td>\n",
              "      <td>0.0</td>\n",
              "      <td>0.0</td>\n",
              "      <td>3</td>\n",
              "      <td>5</td>\n",
              "      <td>0</td>\n",
              "    </tr>\n",
              "    <tr>\n",
              "      <th>1296</th>\n",
              "      <td>1</td>\n",
              "      <td>43</td>\n",
              "      <td>30</td>\n",
              "      <td>7.0</td>\n",
              "      <td>1.6</td>\n",
              "      <td>3</td>\n",
              "      <td>8</td>\n",
              "      <td>0</td>\n",
              "    </tr>\n",
              "    <tr>\n",
              "      <th>1297</th>\n",
              "      <td>0</td>\n",
              "      <td>51</td>\n",
              "      <td>25</td>\n",
              "      <td>0.0</td>\n",
              "      <td>0.0</td>\n",
              "      <td>9</td>\n",
              "      <td>0</td>\n",
              "      <td>1</td>\n",
              "    </tr>\n",
              "  </tbody>\n",
              "</table>\n",
              "<p>1298 rows × 8 columns</p>\n",
              "</div>"
            ],
            "text/plain": [
              "      Diagnosis  Age  Smokes  ...  AreaQ  Alkhol  family history\n",
              "0             1   35       3  ...      5       4               0\n",
              "1             1   27      20  ...      2       5               0\n",
              "2             1   30       0  ...      5       2               0\n",
              "3             1   28       0  ...      8       1               1\n",
              "4             1   68       4  ...      5       6               0\n",
              "...         ...  ...     ...  ...    ...     ...             ...\n",
              "1293          1   26      13  ...      6       1               0\n",
              "1294          0   77      20  ...      5       4               0\n",
              "1295          1   75      15  ...      3       5               0\n",
              "1296          1   43      30  ...      3       8               0\n",
              "1297          0   51      25  ...      9       0               1\n",
              "\n",
              "[1298 rows x 8 columns]"
            ]
          },
          "metadata": {
            "tags": []
          },
          "execution_count": 12
        }
      ]
    },
    {
      "cell_type": "code",
      "metadata": {
        "id": "m-2scLhGp9KS",
        "colab_type": "code",
        "colab": {
          "base_uri": "https://localhost:8080/",
          "height": 238
        },
        "outputId": "23a51972-ee27-42a6-f619-2bff9baf8a0b"
      },
      "source": [
        "#perform normalisation in indeoendent variables\n",
        "from sklearn.preprocessing import StandardScaler\n",
        "scale =StandardScaler()\n",
        "Xnorm=scale.fit_transform(x)\n",
        "print(\" normalised data using standarisation \", Xnorm)\n"
      ],
      "execution_count": null,
      "outputs": [
        {
          "output_type": "stream",
          "text": [
            " normalised data using standarisation  [[ 0.50529115 -0.47382073 -1.52435619 ... -0.08332128  0.32314781\n",
            "  -0.91855865]\n",
            " [ 0.50529115 -0.97080603  0.62301636 ... -1.31231015  0.74683049\n",
            "  -0.91855865]\n",
            " [ 0.50529115 -0.78443655 -1.90330429 ... -0.08332128 -0.52421755\n",
            "  -0.91855865]\n",
            " ...\n",
            " [ 0.50529115  2.01110578 -0.0085638  ... -0.9026472   0.74683049\n",
            "  -0.91855865]\n",
            " [ 0.50529115  0.02316457  1.88617669 ... -0.9026472   2.01787853\n",
            "  -0.91855865]\n",
            " [-1.97905701  0.52014987  1.25459653 ...  1.55533055 -1.37158291\n",
            "   1.08866211]]\n"
          ],
          "name": "stdout"
        }
      ]
    },
    {
      "cell_type": "code",
      "metadata": {
        "id": "eW1tRgsOsj86",
        "colab_type": "code",
        "colab": {}
      },
      "source": [
        "#Splitting the variables into into test and training sets\n",
        "from sklearn.model_selection import train_test_split \n",
        "x_train,x_test,y_train,y_test = train_test_split(Xnorm,y,test_size = 0.1,random_state=0)\n"
      ],
      "execution_count": null,
      "outputs": []
    },
    {
      "cell_type": "code",
      "metadata": {
        "id": "xSU554glgJSy",
        "colab_type": "code",
        "colab": {
          "base_uri": "https://localhost:8080/",
          "height": 34
        },
        "outputId": "4e0be289-3fd2-4b22-e455-988002a1ac06"
      },
      "source": [
        "# Linear Regression Model\n",
        "\n",
        "from sklearn.linear_model import LinearRegression\n",
        "\n",
        "classifier_lr = LinearRegression()\n",
        "classifier_lr.fit(x_train,y_train)\n",
        "y_lr_pred = classifier_lr.predict(x_test)\n",
        "\n",
        "#Result\n",
        "\n",
        "classifier_lr.score(x_test,y_test)*100"
      ],
      "execution_count": null,
      "outputs": [
        {
          "output_type": "execute_result",
          "data": {
            "text/plain": [
              "87.30715950174923"
            ]
          },
          "metadata": {
            "tags": []
          },
          "execution_count": 18
        }
      ]
    },
    {
      "cell_type": "code",
      "metadata": {
        "id": "SGLJCefJgOkH",
        "colab_type": "code",
        "colab": {
          "base_uri": "https://localhost:8080/",
          "height": 34
        },
        "outputId": "ea23802c-97a0-4945-86f5-b6afe9c8f66b"
      },
      "source": [
        "#Logistic Regression Model\n",
        "\n",
        "from sklearn.linear_model import LogisticRegression\n",
        "log_model = LogisticRegression() \n",
        "log_model.fit(x_train, y_train) \n",
        "y_pred_log = log_model.predict(x_test) \n",
        "   \n",
        "  \n",
        "log_model.score(x_test, y_pred_log)*100"
      ],
      "execution_count": null,
      "outputs": [
        {
          "output_type": "execute_result",
          "data": {
            "text/plain": [
              "100.0"
            ]
          },
          "metadata": {
            "tags": []
          },
          "execution_count": 19
        }
      ]
    },
    {
      "cell_type": "code",
      "metadata": {
        "id": "6X3-Xz2shck7",
        "colab_type": "code",
        "colab": {
          "base_uri": "https://localhost:8080/",
          "height": 34
        },
        "outputId": "14fbac1c-1744-4354-ad1a-4f51e97e3e20"
      },
      "source": [
        "# XG Boost\n",
        "from xgboost import XGBClassifier\n",
        "xgboost_model = XGBClassifier()\n",
        "xgboost_model.fit(x_train, y_train)\n",
        "y_pred_xg = xgboost_model.predict(x_test)\n",
        "\n",
        "xgboost_model.score(x_test , y_pred_xg)*100"
      ],
      "execution_count": null,
      "outputs": [
        {
          "output_type": "execute_result",
          "data": {
            "text/plain": [
              "100.0"
            ]
          },
          "metadata": {
            "tags": []
          },
          "execution_count": 20
        }
      ]
    },
    {
      "cell_type": "code",
      "metadata": {
        "id": "CFwysb65hsz1",
        "colab_type": "code",
        "colab": {
          "base_uri": "https://localhost:8080/",
          "height": 34
        },
        "outputId": "837f412c-c078-4a09-bac4-3f1550f99a13"
      },
      "source": [
        "# Gradient Boosting Classifier\n",
        "\n",
        "from sklearn.ensemble import GradientBoostingClassifier\n",
        "gb_model = GradientBoostingClassifier(random_state=0)\n",
        "gb_model.fit(x_train, y_train)\n",
        "y_pred_gb = gb_model.predict(x_test)\n",
        "\n",
        "gb_model.score(x_test , y_pred_gb)*100"
      ],
      "execution_count": null,
      "outputs": [
        {
          "output_type": "execute_result",
          "data": {
            "text/plain": [
              "100.0"
            ]
          },
          "metadata": {
            "tags": []
          },
          "execution_count": 21
        }
      ]
    },
    {
      "cell_type": "code",
      "metadata": {
        "id": "p-giWB-thzZU",
        "colab_type": "code",
        "colab": {
          "base_uri": "https://localhost:8080/",
          "height": 34
        },
        "outputId": "ec03c4a1-b5a0-400d-82a2-4de20cbfeded"
      },
      "source": [
        "#Naive Bayes Classification\n",
        "\n",
        "from sklearn.naive_bayes import GaussianNB\n",
        "classifier_naive = GaussianNB()\n",
        "classifier_naive.fit(x_train, y_train)\n",
        "y_naive_pred = classifier_naive.predict(x_test)\n",
        "\n",
        "#Accuracy\n",
        "\n",
        "classifier_naive.score(x_test,y_test)*100\n"
      ],
      "execution_count": null,
      "outputs": [
        {
          "output_type": "execute_result",
          "data": {
            "text/plain": [
              "93.84615384615384"
            ]
          },
          "metadata": {
            "tags": []
          },
          "execution_count": 22
        }
      ]
    },
    {
      "cell_type": "code",
      "metadata": {
        "id": "_a8sEWEBiDox",
        "colab_type": "code",
        "colab": {
          "base_uri": "https://localhost:8080/",
          "height": 34
        },
        "outputId": "750e229d-c11d-4fff-a189-7cc9196acf60"
      },
      "source": [
        "#Random Forest Classifier\n",
        "\n",
        "from sklearn.ensemble import RandomForestClassifier\n",
        "\n",
        "classifier_rfc = RandomForestClassifier(n_estimators=20, random_state=0)\n",
        "classifier_rfc.fit(x_train, y_train)\n",
        "y_rfc_pred = classifier_rfc.predict(x_test)\n",
        "\n",
        "#accuracy\n",
        "from sklearn.metrics import accuracy_score\n",
        "accuracy_score(y_test,y_rfc_pred)*100"
      ],
      "execution_count": null,
      "outputs": [
        {
          "output_type": "execute_result",
          "data": {
            "text/plain": [
              "100.0"
            ]
          },
          "metadata": {
            "tags": []
          },
          "execution_count": 23
        }
      ]
    },
    {
      "cell_type": "code",
      "metadata": {
        "id": "G7dDLrtCiezZ",
        "colab_type": "code",
        "colab": {
          "base_uri": "https://localhost:8080/",
          "height": 34
        },
        "outputId": "73283ab6-e179-4d9d-fb65-fc8bec93face"
      },
      "source": [
        "#Decision Tree Classifier\n",
        "\n",
        "from sklearn.tree import DecisionTreeClassifier\n",
        "classifier_dtc = DecisionTreeClassifier()\n",
        "classifier_dtc.fit(x_train,y_train)\n",
        "y_dtc_pred = classifier_dtc.predict(x_test)\n",
        "\n",
        "#accuracy\n",
        "accuracy_score(y_test,y_dtc_pred)*100"
      ],
      "execution_count": null,
      "outputs": [
        {
          "output_type": "execute_result",
          "data": {
            "text/plain": [
              "100.0"
            ]
          },
          "metadata": {
            "tags": []
          },
          "execution_count": 24
        }
      ]
    },
    {
      "cell_type": "code",
      "metadata": {
        "id": "WUI69tK9vibi",
        "colab_type": "code",
        "colab": {
          "base_uri": "https://localhost:8080/",
          "height": 34
        },
        "outputId": "09fa2cf5-95fa-4e4e-dce4-302d9f90a871"
      },
      "source": [
        "#Simple Support Vector Classification\n",
        "\n",
        "from sklearn.svm import SVC\n",
        "\n",
        "classifier_svm = SVC()\n",
        "classifier_svm.fit(x_train, y_train)\n",
        "y_svm_pred = classifier_svm.predict(x_test)\n",
        "\n",
        "#Accuracy\n",
        "classifier_svm.score(x_test,y_test) *100"
      ],
      "execution_count": null,
      "outputs": [
        {
          "output_type": "execute_result",
          "data": {
            "text/plain": [
              "100.0"
            ]
          },
          "metadata": {
            "tags": []
          },
          "execution_count": 25
        }
      ]
    },
    {
      "cell_type": "code",
      "metadata": {
        "id": "wF3GQx1Ovmh9",
        "colab_type": "code",
        "colab": {
          "base_uri": "https://localhost:8080/",
          "height": 34
        },
        "outputId": "da58faf9-5229-4669-9885-f90df18b887c"
      },
      "source": [
        "#Kernel Support Vector Classification\n",
        "\n",
        "from sklearn.svm import SVC\n",
        "\n",
        "classifier_svc = SVC(kernel='linear',random_state=0)\n",
        "classifier_svc.fit(x_train,y_train)\n",
        "y_svc_pred = classifier_svc.predict(x_test)\n",
        "\n",
        "#accuracy\n",
        "classifier_svc.score(x_test,y_test)*100"
      ],
      "execution_count": null,
      "outputs": [
        {
          "output_type": "execute_result",
          "data": {
            "text/plain": [
              "100.0"
            ]
          },
          "metadata": {
            "tags": []
          },
          "execution_count": 26
        }
      ]
    },
    {
      "cell_type": "code",
      "metadata": {
        "id": "Sp21zxu8vsWA",
        "colab_type": "code",
        "colab": {
          "base_uri": "https://localhost:8080/",
          "height": 34
        },
        "outputId": "2cd8bfa2-c2d2-40b6-da63-cb9b9122099e"
      },
      "source": [
        "#Stochastic Gradient Descent Classifier\n",
        "\n",
        "from sklearn.linear_model import SGDClassifier\n",
        "\n",
        "classifier_sgd= SGDClassifier(loss='modified_huber',shuffle=True,random_state=0)\n",
        "classifier_sgd.fit(x_train,y_train)\n",
        "y_sgd_pred = classifier_sgd.predict(x_test)\n",
        "\n",
        "#accuracy\n",
        "accuracy_score(y_test,y_sgd_pred)*100"
      ],
      "execution_count": null,
      "outputs": [
        {
          "output_type": "execute_result",
          "data": {
            "text/plain": [
              "100.0"
            ]
          },
          "metadata": {
            "tags": []
          },
          "execution_count": 27
        }
      ]
    },
    {
      "cell_type": "code",
      "metadata": {
        "id": "vOJEomwnvxWI",
        "colab_type": "code",
        "colab": {
          "base_uri": "https://localhost:8080/",
          "height": 1000
        },
        "outputId": "19d28eb7-4aac-4b49-c055-b4a0be87b4de"
      },
      "source": [
        "#Results of the classifications\n",
        "\n",
        "con_log = cm(y_test,y_pred_log)\n",
        "con_xg = cm(y_test,y_pred_xg)\n",
        "con_gb = cm(y_test,y_pred_gb)\n",
        "con_naive = cm(y_test,y_naive_pred)\n",
        "con_rfc = cm(y_test,y_rfc_pred)\n",
        "con_dtc = cm(y_test,y_dtc_pred)\n",
        "con_svm = cm(y_test,y_svm_pred)\n",
        "con_svc = cm(y_test,y_svc_pred)\n",
        "con_sgd = cm(y_test,y_sgd_pred)\n",
        "\n",
        "\n",
        "print(\"LOGISTIC REGRESSION MODEL\\n\",rep(y_test,y_pred_log),\"\\n\", con_log ,\"\\n\")\n",
        "print(\"XG BOOST\\n\",rep(y_test,y_pred_xg),\"\\n\", con_xg ,\"\\n\")\n",
        "print(\"GRADIENT BOOSTING CLASSIFIER\\n\",rep(y_test,y_pred_gb),\"\\n\", con_gb ,\"\\n\")\n",
        "print(\"NAIVE BAYES RESULTS\\n\",rep(y_test,y_naive_pred),\"\\n\", con_naive ,\"\\n\")\n",
        "print(\"RANDOM FOREST CLASSIFIER RESULTS\\n\",rep(y_test,y_rfc_pred),\"\\n\" , con_rfc, \"\\n\")\n",
        "print(\"DECISION TREE RESULTS\\n\",rep(y_test,y_dtc_pred),\"\\n\" , con_dtc , \"\\n\")\n",
        "print(\"SIMPLE SUPPORT VECTOR CLASSIFICATION\\n\",rep(y_test,y_svm_pred),\"\\n\", con_svm , \"\\n\")\n",
        "print(\"KERNEL SUPPORT VECTOR CLASSIFICATION\\n\",rep(y_test,y_svc_pred),\"\\n\", con_svc , \"\\n\")\n",
        "print(\"STOCHASTIC GRADIENT DESCENT RESULTS\\n\",rep(y_test,y_sgd_pred),\"\\n\", con_sgd , \"\\n\")"
      ],
      "execution_count": null,
      "outputs": [
        {
          "output_type": "stream",
          "text": [
            "LOGISTIC REGRESSION MODEL\n",
            "               precision    recall  f1-score   support\n",
            "\n",
            "           0       1.00      1.00      1.00        68\n",
            "           1       1.00      1.00      1.00        62\n",
            "\n",
            "    accuracy                           1.00       130\n",
            "   macro avg       1.00      1.00      1.00       130\n",
            "weighted avg       1.00      1.00      1.00       130\n",
            " \n",
            " [[68  0]\n",
            " [ 0 62]] \n",
            "\n",
            "XG BOOST\n",
            "               precision    recall  f1-score   support\n",
            "\n",
            "           0       1.00      1.00      1.00        68\n",
            "           1       1.00      1.00      1.00        62\n",
            "\n",
            "    accuracy                           1.00       130\n",
            "   macro avg       1.00      1.00      1.00       130\n",
            "weighted avg       1.00      1.00      1.00       130\n",
            " \n",
            " [[68  0]\n",
            " [ 0 62]] \n",
            "\n",
            "GRADIENT BOOSTING CLASSIFIER\n",
            "               precision    recall  f1-score   support\n",
            "\n",
            "           0       1.00      1.00      1.00        68\n",
            "           1       1.00      1.00      1.00        62\n",
            "\n",
            "    accuracy                           1.00       130\n",
            "   macro avg       1.00      1.00      1.00       130\n",
            "weighted avg       1.00      1.00      1.00       130\n",
            " \n",
            " [[68  0]\n",
            " [ 0 62]] \n",
            "\n",
            "NAIVE BAYES RESULTS\n",
            "               precision    recall  f1-score   support\n",
            "\n",
            "           0       1.00      0.88      0.94        68\n",
            "           1       0.89      1.00      0.94        62\n",
            "\n",
            "    accuracy                           0.94       130\n",
            "   macro avg       0.94      0.94      0.94       130\n",
            "weighted avg       0.95      0.94      0.94       130\n",
            " \n",
            " [[60  8]\n",
            " [ 0 62]] \n",
            "\n",
            "RANDOM FOREST CLASSIFIER RESULTS\n",
            "               precision    recall  f1-score   support\n",
            "\n",
            "           0       1.00      1.00      1.00        68\n",
            "           1       1.00      1.00      1.00        62\n",
            "\n",
            "    accuracy                           1.00       130\n",
            "   macro avg       1.00      1.00      1.00       130\n",
            "weighted avg       1.00      1.00      1.00       130\n",
            " \n",
            " [[68  0]\n",
            " [ 0 62]] \n",
            "\n",
            "DECISION TREE RESULTS\n",
            "               precision    recall  f1-score   support\n",
            "\n",
            "           0       1.00      1.00      1.00        68\n",
            "           1       1.00      1.00      1.00        62\n",
            "\n",
            "    accuracy                           1.00       130\n",
            "   macro avg       1.00      1.00      1.00       130\n",
            "weighted avg       1.00      1.00      1.00       130\n",
            " \n",
            " [[68  0]\n",
            " [ 0 62]] \n",
            "\n",
            "SIMPLE SUPPORT VECTOR CLASSIFICATION\n",
            "               precision    recall  f1-score   support\n",
            "\n",
            "           0       1.00      1.00      1.00        68\n",
            "           1       1.00      1.00      1.00        62\n",
            "\n",
            "    accuracy                           1.00       130\n",
            "   macro avg       1.00      1.00      1.00       130\n",
            "weighted avg       1.00      1.00      1.00       130\n",
            " \n",
            " [[68  0]\n",
            " [ 0 62]] \n",
            "\n",
            "KERNEL SUPPORT VECTOR CLASSIFICATION\n",
            "               precision    recall  f1-score   support\n",
            "\n",
            "           0       1.00      1.00      1.00        68\n",
            "           1       1.00      1.00      1.00        62\n",
            "\n",
            "    accuracy                           1.00       130\n",
            "   macro avg       1.00      1.00      1.00       130\n",
            "weighted avg       1.00      1.00      1.00       130\n",
            " \n",
            " [[68  0]\n",
            " [ 0 62]] \n",
            "\n",
            "STOCHASTIC GRADIENT DESCENT RESULTS\n",
            "               precision    recall  f1-score   support\n",
            "\n",
            "           0       1.00      1.00      1.00        68\n",
            "           1       1.00      1.00      1.00        62\n",
            "\n",
            "    accuracy                           1.00       130\n",
            "   macro avg       1.00      1.00      1.00       130\n",
            "weighted avg       1.00      1.00      1.00       130\n",
            " \n",
            " [[68  0]\n",
            " [ 0 62]] \n",
            "\n"
          ],
          "name": "stdout"
        }
      ]
    },
    {
      "cell_type": "code",
      "metadata": {
        "id": "6ZnURtvJv2dB",
        "colab_type": "code",
        "colab": {
          "base_uri": "https://localhost:8080/",
          "height": 419
        },
        "outputId": "b9e1646f-6557-4e06-dfb6-9bc734b20fe6"
      },
      "source": [
        "predicted_class= classifier_svc.predict(x)\n",
        "data['Predicted Result']= predicted_class\n",
        "data[['Result','Predicted Result']]"
      ],
      "execution_count": null,
      "outputs": [
        {
          "output_type": "execute_result",
          "data": {
            "text/html": [
              "<div>\n",
              "<style scoped>\n",
              "    .dataframe tbody tr th:only-of-type {\n",
              "        vertical-align: middle;\n",
              "    }\n",
              "\n",
              "    .dataframe tbody tr th {\n",
              "        vertical-align: top;\n",
              "    }\n",
              "\n",
              "    .dataframe thead th {\n",
              "        text-align: right;\n",
              "    }\n",
              "</style>\n",
              "<table border=\"1\" class=\"dataframe\">\n",
              "  <thead>\n",
              "    <tr style=\"text-align: right;\">\n",
              "      <th></th>\n",
              "      <th>Result</th>\n",
              "      <th>Predicted Result</th>\n",
              "    </tr>\n",
              "  </thead>\n",
              "  <tbody>\n",
              "    <tr>\n",
              "      <th>0</th>\n",
              "      <td>1</td>\n",
              "      <td>1</td>\n",
              "    </tr>\n",
              "    <tr>\n",
              "      <th>1</th>\n",
              "      <td>1</td>\n",
              "      <td>1</td>\n",
              "    </tr>\n",
              "    <tr>\n",
              "      <th>2</th>\n",
              "      <td>0</td>\n",
              "      <td>1</td>\n",
              "    </tr>\n",
              "    <tr>\n",
              "      <th>3</th>\n",
              "      <td>0</td>\n",
              "      <td>1</td>\n",
              "    </tr>\n",
              "    <tr>\n",
              "      <th>4</th>\n",
              "      <td>1</td>\n",
              "      <td>1</td>\n",
              "    </tr>\n",
              "    <tr>\n",
              "      <th>...</th>\n",
              "      <td>...</td>\n",
              "      <td>...</td>\n",
              "    </tr>\n",
              "    <tr>\n",
              "      <th>1293</th>\n",
              "      <td>0</td>\n",
              "      <td>1</td>\n",
              "    </tr>\n",
              "    <tr>\n",
              "      <th>1294</th>\n",
              "      <td>1</td>\n",
              "      <td>1</td>\n",
              "    </tr>\n",
              "    <tr>\n",
              "      <th>1295</th>\n",
              "      <td>1</td>\n",
              "      <td>1</td>\n",
              "    </tr>\n",
              "    <tr>\n",
              "      <th>1296</th>\n",
              "      <td>1</td>\n",
              "      <td>1</td>\n",
              "    </tr>\n",
              "    <tr>\n",
              "      <th>1297</th>\n",
              "      <td>0</td>\n",
              "      <td>1</td>\n",
              "    </tr>\n",
              "  </tbody>\n",
              "</table>\n",
              "<p>1298 rows × 2 columns</p>\n",
              "</div>"
            ],
            "text/plain": [
              "      Result  Predicted Result\n",
              "0          1                 1\n",
              "1          1                 1\n",
              "2          0                 1\n",
              "3          0                 1\n",
              "4          1                 1\n",
              "...      ...               ...\n",
              "1293       0                 1\n",
              "1294       1                 1\n",
              "1295       1                 1\n",
              "1296       1                 1\n",
              "1297       0                 1\n",
              "\n",
              "[1298 rows x 2 columns]"
            ]
          },
          "metadata": {
            "tags": []
          },
          "execution_count": 29
        }
      ]
    },
    {
      "cell_type": "code",
      "metadata": {
        "id": "PItnJeQKwMLw",
        "colab_type": "code",
        "colab": {}
      },
      "source": [
        ""
      ],
      "execution_count": null,
      "outputs": []
    }
  ]
}