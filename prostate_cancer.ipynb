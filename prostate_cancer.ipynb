{
  "nbformat": 4,
  "nbformat_minor": 0,
  "metadata": {
    "colab": {
      "name": "prostate cancer.ipynb",
      "provenance": [],
      "authorship_tag": "ABX9TyPoLTl77tfa5ND/O7QHV8CV"
    },
    "kernelspec": {
      "name": "python3",
      "display_name": "Python 3"
    }
  },
  "cells": [
    {
      "cell_type": "code",
      "metadata": {
        "id": "3hf8dfYBwZa9",
        "colab_type": "code",
        "colab": {}
      },
      "source": [
        "import pandas as pd\n",
        "import numpy as np \n",
        "import matplotlib.pyplot as plt\n",
        "import seaborn as sns \n",
        "from sklearn.metrics import classification_report as rep,confusion_matrix as cm\n",
        "\n",
        "data=pd.read_csv(\"/datasets_Prostate_Cancer.csv\")"
      ],
      "execution_count": null,
      "outputs": []
    },
    {
      "cell_type": "code",
      "metadata": {
        "id": "2Mj6hjLIyYeC",
        "colab_type": "code",
        "colab": {
          "base_uri": "https://localhost:8080/",
          "height": 204
        },
        "outputId": "0f38ad14-d314-4bc5-8cfc-11f5c9634f1a"
      },
      "source": [
        "data.head()"
      ],
      "execution_count": null,
      "outputs": [
        {
          "output_type": "execute_result",
          "data": {
            "text/html": [
              "<div>\n",
              "<style scoped>\n",
              "    .dataframe tbody tr th:only-of-type {\n",
              "        vertical-align: middle;\n",
              "    }\n",
              "\n",
              "    .dataframe tbody tr th {\n",
              "        vertical-align: top;\n",
              "    }\n",
              "\n",
              "    .dataframe thead th {\n",
              "        text-align: right;\n",
              "    }\n",
              "</style>\n",
              "<table border=\"1\" class=\"dataframe\">\n",
              "  <thead>\n",
              "    <tr style=\"text-align: right;\">\n",
              "      <th></th>\n",
              "      <th>id</th>\n",
              "      <th>diagnosis_result</th>\n",
              "      <th>radius</th>\n",
              "      <th>texture</th>\n",
              "      <th>perimeter</th>\n",
              "      <th>area</th>\n",
              "      <th>smoothness</th>\n",
              "      <th>compactness</th>\n",
              "      <th>symmetry</th>\n",
              "      <th>fractal_dimension</th>\n",
              "    </tr>\n",
              "  </thead>\n",
              "  <tbody>\n",
              "    <tr>\n",
              "      <th>0</th>\n",
              "      <td>1</td>\n",
              "      <td>M</td>\n",
              "      <td>23</td>\n",
              "      <td>12</td>\n",
              "      <td>151</td>\n",
              "      <td>954</td>\n",
              "      <td>0.143</td>\n",
              "      <td>0.278</td>\n",
              "      <td>0.242</td>\n",
              "      <td>0.079</td>\n",
              "    </tr>\n",
              "    <tr>\n",
              "      <th>1</th>\n",
              "      <td>2</td>\n",
              "      <td>B</td>\n",
              "      <td>9</td>\n",
              "      <td>13</td>\n",
              "      <td>133</td>\n",
              "      <td>1326</td>\n",
              "      <td>0.143</td>\n",
              "      <td>0.079</td>\n",
              "      <td>0.181</td>\n",
              "      <td>0.057</td>\n",
              "    </tr>\n",
              "    <tr>\n",
              "      <th>2</th>\n",
              "      <td>3</td>\n",
              "      <td>M</td>\n",
              "      <td>21</td>\n",
              "      <td>27</td>\n",
              "      <td>130</td>\n",
              "      <td>1203</td>\n",
              "      <td>0.125</td>\n",
              "      <td>0.160</td>\n",
              "      <td>0.207</td>\n",
              "      <td>0.060</td>\n",
              "    </tr>\n",
              "    <tr>\n",
              "      <th>3</th>\n",
              "      <td>4</td>\n",
              "      <td>M</td>\n",
              "      <td>14</td>\n",
              "      <td>16</td>\n",
              "      <td>78</td>\n",
              "      <td>386</td>\n",
              "      <td>0.070</td>\n",
              "      <td>0.284</td>\n",
              "      <td>0.260</td>\n",
              "      <td>0.097</td>\n",
              "    </tr>\n",
              "    <tr>\n",
              "      <th>4</th>\n",
              "      <td>5</td>\n",
              "      <td>M</td>\n",
              "      <td>9</td>\n",
              "      <td>19</td>\n",
              "      <td>135</td>\n",
              "      <td>1297</td>\n",
              "      <td>0.141</td>\n",
              "      <td>0.133</td>\n",
              "      <td>0.181</td>\n",
              "      <td>0.059</td>\n",
              "    </tr>\n",
              "  </tbody>\n",
              "</table>\n",
              "</div>"
            ],
            "text/plain": [
              "   id diagnosis_result  radius  ...  compactness  symmetry  fractal_dimension\n",
              "0   1                M      23  ...        0.278     0.242              0.079\n",
              "1   2                B       9  ...        0.079     0.181              0.057\n",
              "2   3                M      21  ...        0.160     0.207              0.060\n",
              "3   4                M      14  ...        0.284     0.260              0.097\n",
              "4   5                M       9  ...        0.133     0.181              0.059\n",
              "\n",
              "[5 rows x 10 columns]"
            ]
          },
          "metadata": {
            "tags": []
          },
          "execution_count": 3
        }
      ]
    },
    {
      "cell_type": "code",
      "metadata": {
        "id": "-5KBwjnEyhKZ",
        "colab_type": "code",
        "colab": {
          "base_uri": "https://localhost:8080/",
          "height": 419
        },
        "outputId": "223a516d-17a1-4396-afee-a28235160e12"
      },
      "source": [
        "from sklearn import preprocessing\n",
        "\n",
        "# label_encoder object knows how to understand word labels. \n",
        "label_encoder = preprocessing.LabelEncoder() \n",
        "  \n",
        "# Encode labels in column gender\n",
        "data[\"diagnosis_result\"]= label_encoder.fit_transform(data[\"diagnosis_result\"]) \n",
        "data"
      ],
      "execution_count": null,
      "outputs": [
        {
          "output_type": "execute_result",
          "data": {
            "text/html": [
              "<div>\n",
              "<style scoped>\n",
              "    .dataframe tbody tr th:only-of-type {\n",
              "        vertical-align: middle;\n",
              "    }\n",
              "\n",
              "    .dataframe tbody tr th {\n",
              "        vertical-align: top;\n",
              "    }\n",
              "\n",
              "    .dataframe thead th {\n",
              "        text-align: right;\n",
              "    }\n",
              "</style>\n",
              "<table border=\"1\" class=\"dataframe\">\n",
              "  <thead>\n",
              "    <tr style=\"text-align: right;\">\n",
              "      <th></th>\n",
              "      <th>id</th>\n",
              "      <th>diagnosis_result</th>\n",
              "      <th>radius</th>\n",
              "      <th>texture</th>\n",
              "      <th>perimeter</th>\n",
              "      <th>area</th>\n",
              "      <th>smoothness</th>\n",
              "      <th>compactness</th>\n",
              "      <th>symmetry</th>\n",
              "      <th>fractal_dimension</th>\n",
              "    </tr>\n",
              "  </thead>\n",
              "  <tbody>\n",
              "    <tr>\n",
              "      <th>0</th>\n",
              "      <td>1</td>\n",
              "      <td>1</td>\n",
              "      <td>23</td>\n",
              "      <td>12</td>\n",
              "      <td>151</td>\n",
              "      <td>954</td>\n",
              "      <td>0.143</td>\n",
              "      <td>0.278</td>\n",
              "      <td>0.242</td>\n",
              "      <td>0.079</td>\n",
              "    </tr>\n",
              "    <tr>\n",
              "      <th>1</th>\n",
              "      <td>2</td>\n",
              "      <td>0</td>\n",
              "      <td>9</td>\n",
              "      <td>13</td>\n",
              "      <td>133</td>\n",
              "      <td>1326</td>\n",
              "      <td>0.143</td>\n",
              "      <td>0.079</td>\n",
              "      <td>0.181</td>\n",
              "      <td>0.057</td>\n",
              "    </tr>\n",
              "    <tr>\n",
              "      <th>2</th>\n",
              "      <td>3</td>\n",
              "      <td>1</td>\n",
              "      <td>21</td>\n",
              "      <td>27</td>\n",
              "      <td>130</td>\n",
              "      <td>1203</td>\n",
              "      <td>0.125</td>\n",
              "      <td>0.160</td>\n",
              "      <td>0.207</td>\n",
              "      <td>0.060</td>\n",
              "    </tr>\n",
              "    <tr>\n",
              "      <th>3</th>\n",
              "      <td>4</td>\n",
              "      <td>1</td>\n",
              "      <td>14</td>\n",
              "      <td>16</td>\n",
              "      <td>78</td>\n",
              "      <td>386</td>\n",
              "      <td>0.070</td>\n",
              "      <td>0.284</td>\n",
              "      <td>0.260</td>\n",
              "      <td>0.097</td>\n",
              "    </tr>\n",
              "    <tr>\n",
              "      <th>4</th>\n",
              "      <td>5</td>\n",
              "      <td>1</td>\n",
              "      <td>9</td>\n",
              "      <td>19</td>\n",
              "      <td>135</td>\n",
              "      <td>1297</td>\n",
              "      <td>0.141</td>\n",
              "      <td>0.133</td>\n",
              "      <td>0.181</td>\n",
              "      <td>0.059</td>\n",
              "    </tr>\n",
              "    <tr>\n",
              "      <th>...</th>\n",
              "      <td>...</td>\n",
              "      <td>...</td>\n",
              "      <td>...</td>\n",
              "      <td>...</td>\n",
              "      <td>...</td>\n",
              "      <td>...</td>\n",
              "      <td>...</td>\n",
              "      <td>...</td>\n",
              "      <td>...</td>\n",
              "      <td>...</td>\n",
              "    </tr>\n",
              "    <tr>\n",
              "      <th>95</th>\n",
              "      <td>96</td>\n",
              "      <td>1</td>\n",
              "      <td>23</td>\n",
              "      <td>16</td>\n",
              "      <td>132</td>\n",
              "      <td>1264</td>\n",
              "      <td>0.091</td>\n",
              "      <td>0.131</td>\n",
              "      <td>0.210</td>\n",
              "      <td>0.056</td>\n",
              "    </tr>\n",
              "    <tr>\n",
              "      <th>96</th>\n",
              "      <td>97</td>\n",
              "      <td>0</td>\n",
              "      <td>22</td>\n",
              "      <td>14</td>\n",
              "      <td>78</td>\n",
              "      <td>451</td>\n",
              "      <td>0.105</td>\n",
              "      <td>0.071</td>\n",
              "      <td>0.190</td>\n",
              "      <td>0.066</td>\n",
              "    </tr>\n",
              "    <tr>\n",
              "      <th>97</th>\n",
              "      <td>98</td>\n",
              "      <td>0</td>\n",
              "      <td>19</td>\n",
              "      <td>27</td>\n",
              "      <td>62</td>\n",
              "      <td>295</td>\n",
              "      <td>0.102</td>\n",
              "      <td>0.053</td>\n",
              "      <td>0.135</td>\n",
              "      <td>0.069</td>\n",
              "    </tr>\n",
              "    <tr>\n",
              "      <th>98</th>\n",
              "      <td>99</td>\n",
              "      <td>0</td>\n",
              "      <td>21</td>\n",
              "      <td>24</td>\n",
              "      <td>74</td>\n",
              "      <td>413</td>\n",
              "      <td>0.090</td>\n",
              "      <td>0.075</td>\n",
              "      <td>0.162</td>\n",
              "      <td>0.066</td>\n",
              "    </tr>\n",
              "    <tr>\n",
              "      <th>99</th>\n",
              "      <td>100</td>\n",
              "      <td>1</td>\n",
              "      <td>16</td>\n",
              "      <td>27</td>\n",
              "      <td>94</td>\n",
              "      <td>643</td>\n",
              "      <td>0.098</td>\n",
              "      <td>0.114</td>\n",
              "      <td>0.188</td>\n",
              "      <td>0.064</td>\n",
              "    </tr>\n",
              "  </tbody>\n",
              "</table>\n",
              "<p>100 rows × 10 columns</p>\n",
              "</div>"
            ],
            "text/plain": [
              "     id  diagnosis_result  radius  ...  compactness  symmetry  fractal_dimension\n",
              "0     1                 1      23  ...        0.278     0.242              0.079\n",
              "1     2                 0       9  ...        0.079     0.181              0.057\n",
              "2     3                 1      21  ...        0.160     0.207              0.060\n",
              "3     4                 1      14  ...        0.284     0.260              0.097\n",
              "4     5                 1       9  ...        0.133     0.181              0.059\n",
              "..  ...               ...     ...  ...          ...       ...                ...\n",
              "95   96                 1      23  ...        0.131     0.210              0.056\n",
              "96   97                 0      22  ...        0.071     0.190              0.066\n",
              "97   98                 0      19  ...        0.053     0.135              0.069\n",
              "98   99                 0      21  ...        0.075     0.162              0.066\n",
              "99  100                 1      16  ...        0.114     0.188              0.064\n",
              "\n",
              "[100 rows x 10 columns]"
            ]
          },
          "metadata": {
            "tags": []
          },
          "execution_count": 4
        }
      ]
    },
    {
      "cell_type": "code",
      "metadata": {
        "id": "hLz9PA2KzDx_",
        "colab_type": "code",
        "colab": {
          "base_uri": "https://localhost:8080/",
          "height": 68
        },
        "outputId": "28d6b0c2-793f-4a85-ecde-56e91ceff324"
      },
      "source": [
        "data.columns"
      ],
      "execution_count": null,
      "outputs": [
        {
          "output_type": "execute_result",
          "data": {
            "text/plain": [
              "Index(['id', 'diagnosis_result', 'radius', 'texture', 'perimeter', 'area',\n",
              "       'smoothness', 'compactness', 'symmetry', 'fractal_dimension'],\n",
              "      dtype='object')"
            ]
          },
          "metadata": {
            "tags": []
          },
          "execution_count": 5
        }
      ]
    },
    {
      "cell_type": "code",
      "metadata": {
        "id": "GPjiK8IvzLXG",
        "colab_type": "code",
        "colab": {
          "base_uri": "https://localhost:8080/",
          "height": 359
        },
        "outputId": "36268e43-f6c8-47d4-e1a0-1d15651aa084"
      },
      "source": [
        "data.corr()"
      ],
      "execution_count": null,
      "outputs": [
        {
          "output_type": "execute_result",
          "data": {
            "text/html": [
              "<div>\n",
              "<style scoped>\n",
              "    .dataframe tbody tr th:only-of-type {\n",
              "        vertical-align: middle;\n",
              "    }\n",
              "\n",
              "    .dataframe tbody tr th {\n",
              "        vertical-align: top;\n",
              "    }\n",
              "\n",
              "    .dataframe thead th {\n",
              "        text-align: right;\n",
              "    }\n",
              "</style>\n",
              "<table border=\"1\" class=\"dataframe\">\n",
              "  <thead>\n",
              "    <tr style=\"text-align: right;\">\n",
              "      <th></th>\n",
              "      <th>id</th>\n",
              "      <th>diagnosis_result</th>\n",
              "      <th>radius</th>\n",
              "      <th>texture</th>\n",
              "      <th>perimeter</th>\n",
              "      <th>area</th>\n",
              "      <th>smoothness</th>\n",
              "      <th>compactness</th>\n",
              "      <th>symmetry</th>\n",
              "      <th>fractal_dimension</th>\n",
              "    </tr>\n",
              "  </thead>\n",
              "  <tbody>\n",
              "    <tr>\n",
              "      <th>id</th>\n",
              "      <td>1.000000</td>\n",
              "      <td>-0.316889</td>\n",
              "      <td>0.047276</td>\n",
              "      <td>0.052263</td>\n",
              "      <td>-0.215953</td>\n",
              "      <td>-0.174354</td>\n",
              "      <td>-0.258328</td>\n",
              "      <td>-0.277554</td>\n",
              "      <td>-0.222334</td>\n",
              "      <td>-0.164946</td>\n",
              "    </tr>\n",
              "    <tr>\n",
              "      <th>diagnosis_result</th>\n",
              "      <td>-0.316889</td>\n",
              "      <td>1.000000</td>\n",
              "      <td>-0.176967</td>\n",
              "      <td>0.070735</td>\n",
              "      <td>0.607498</td>\n",
              "      <td>0.562444</td>\n",
              "      <td>0.197616</td>\n",
              "      <td>0.512234</td>\n",
              "      <td>0.233028</td>\n",
              "      <td>0.008180</td>\n",
              "    </tr>\n",
              "    <tr>\n",
              "      <th>radius</th>\n",
              "      <td>0.047276</td>\n",
              "      <td>-0.176967</td>\n",
              "      <td>1.000000</td>\n",
              "      <td>0.100245</td>\n",
              "      <td>-0.238216</td>\n",
              "      <td>-0.250934</td>\n",
              "      <td>-0.127121</td>\n",
              "      <td>-0.191490</td>\n",
              "      <td>-0.039707</td>\n",
              "      <td>-0.029120</td>\n",
              "    </tr>\n",
              "    <tr>\n",
              "      <th>texture</th>\n",
              "      <td>0.052263</td>\n",
              "      <td>0.070735</td>\n",
              "      <td>0.100245</td>\n",
              "      <td>1.000000</td>\n",
              "      <td>-0.113453</td>\n",
              "      <td>-0.113725</td>\n",
              "      <td>0.102321</td>\n",
              "      <td>0.032446</td>\n",
              "      <td>0.077912</td>\n",
              "      <td>0.139157</td>\n",
              "    </tr>\n",
              "    <tr>\n",
              "      <th>perimeter</th>\n",
              "      <td>-0.215953</td>\n",
              "      <td>0.607498</td>\n",
              "      <td>-0.238216</td>\n",
              "      <td>-0.113453</td>\n",
              "      <td>1.000000</td>\n",
              "      <td>0.976648</td>\n",
              "      <td>0.269442</td>\n",
              "      <td>0.527542</td>\n",
              "      <td>0.195539</td>\n",
              "      <td>-0.195434</td>\n",
              "    </tr>\n",
              "    <tr>\n",
              "      <th>area</th>\n",
              "      <td>-0.174354</td>\n",
              "      <td>0.562444</td>\n",
              "      <td>-0.250934</td>\n",
              "      <td>-0.113725</td>\n",
              "      <td>0.976648</td>\n",
              "      <td>1.000000</td>\n",
              "      <td>0.208438</td>\n",
              "      <td>0.424950</td>\n",
              "      <td>0.110435</td>\n",
              "      <td>-0.274344</td>\n",
              "    </tr>\n",
              "    <tr>\n",
              "      <th>smoothness</th>\n",
              "      <td>-0.258328</td>\n",
              "      <td>0.197616</td>\n",
              "      <td>-0.127121</td>\n",
              "      <td>0.102321</td>\n",
              "      <td>0.269442</td>\n",
              "      <td>0.208438</td>\n",
              "      <td>1.000000</td>\n",
              "      <td>0.465723</td>\n",
              "      <td>0.424203</td>\n",
              "      <td>0.369580</td>\n",
              "    </tr>\n",
              "    <tr>\n",
              "      <th>compactness</th>\n",
              "      <td>-0.277554</td>\n",
              "      <td>0.512234</td>\n",
              "      <td>-0.191490</td>\n",
              "      <td>0.032446</td>\n",
              "      <td>0.527542</td>\n",
              "      <td>0.424950</td>\n",
              "      <td>0.465723</td>\n",
              "      <td>1.000000</td>\n",
              "      <td>0.681123</td>\n",
              "      <td>0.647953</td>\n",
              "    </tr>\n",
              "    <tr>\n",
              "      <th>symmetry</th>\n",
              "      <td>-0.222334</td>\n",
              "      <td>0.233028</td>\n",
              "      <td>-0.039707</td>\n",
              "      <td>0.077912</td>\n",
              "      <td>0.195539</td>\n",
              "      <td>0.110435</td>\n",
              "      <td>0.424203</td>\n",
              "      <td>0.681123</td>\n",
              "      <td>1.000000</td>\n",
              "      <td>0.568608</td>\n",
              "    </tr>\n",
              "    <tr>\n",
              "      <th>fractal_dimension</th>\n",
              "      <td>-0.164946</td>\n",
              "      <td>0.008180</td>\n",
              "      <td>-0.029120</td>\n",
              "      <td>0.139157</td>\n",
              "      <td>-0.195434</td>\n",
              "      <td>-0.274344</td>\n",
              "      <td>0.369580</td>\n",
              "      <td>0.647953</td>\n",
              "      <td>0.568608</td>\n",
              "      <td>1.000000</td>\n",
              "    </tr>\n",
              "  </tbody>\n",
              "</table>\n",
              "</div>"
            ],
            "text/plain": [
              "                         id  diagnosis_result  ...  symmetry  fractal_dimension\n",
              "id                 1.000000         -0.316889  ... -0.222334          -0.164946\n",
              "diagnosis_result  -0.316889          1.000000  ...  0.233028           0.008180\n",
              "radius             0.047276         -0.176967  ... -0.039707          -0.029120\n",
              "texture            0.052263          0.070735  ...  0.077912           0.139157\n",
              "perimeter         -0.215953          0.607498  ...  0.195539          -0.195434\n",
              "area              -0.174354          0.562444  ...  0.110435          -0.274344\n",
              "smoothness        -0.258328          0.197616  ...  0.424203           0.369580\n",
              "compactness       -0.277554          0.512234  ...  0.681123           0.647953\n",
              "symmetry          -0.222334          0.233028  ...  1.000000           0.568608\n",
              "fractal_dimension -0.164946          0.008180  ...  0.568608           1.000000\n",
              "\n",
              "[10 rows x 10 columns]"
            ]
          },
          "metadata": {
            "tags": []
          },
          "execution_count": 6
        }
      ]
    },
    {
      "cell_type": "code",
      "metadata": {
        "id": "xbZChf9rzOo4",
        "colab_type": "code",
        "colab": {
          "base_uri": "https://localhost:8080/",
          "height": 365
        },
        "outputId": "8ce9f9a7-2180-43f3-ccb9-5e0452a9a1f8"
      },
      "source": [
        "sns.heatmap(data.corr())"
      ],
      "execution_count": null,
      "outputs": [
        {
          "output_type": "execute_result",
          "data": {
            "text/plain": [
              "<matplotlib.axes._subplots.AxesSubplot at 0x7fa60acbb940>"
            ]
          },
          "metadata": {
            "tags": []
          },
          "execution_count": 7
        },
        {
          "output_type": "display_data",
          "data": {
            "image/png": "[encoded data removed]",
            "text/plain": [
              "<Figure size 432x288 with 2 Axes>"
            ]
          },
          "metadata": {
            "tags": [],
            "needs_background": "light"
          }
        }
      ]
    },
    {
      "cell_type": "code",
      "metadata": {
        "id": "eOxY1XHbzUdh",
        "colab_type": "code",
        "colab": {}
      },
      "source": [
        "#Select independent and dependent variables\n",
        "y= data['diagnosis_result']\n",
        "x=data.drop(columns=['diagnosis_result'])"
      ],
      "execution_count": null,
      "outputs": []
    },
    {
      "cell_type": "code",
      "metadata": {
        "id": "Z_POTjApzkjG",
        "colab_type": "code",
        "colab": {
          "base_uri": "https://localhost:8080/",
          "height": 1000
        },
        "outputId": "2f6c279d-e87a-4e30-dbc8-ec384bbaba2e"
      },
      "source": [
        "# perform normalisation in indeoendent variables\n",
        "from sklearn.preprocessing import StandardScaler\n",
        "scale =StandardScaler()\n",
        "Xnorm=scale.fit_transform(x)\n",
        "print(\" normalised data using standarisation \", Xnorm)"
      ],
      "execution_count": null,
      "outputs": [
        {
          "output_type": "stream",
          "text": [
            " normalised data using standarisation  [[-1.71481604e+00  1.26683005e+00 -1.20574648e+00  2.30161118e+00\n",
            "   7.89416627e-01  2.76420965e+00  2.48697022e+00  1.59415115e+00\n",
            "   1.76446414e+00]\n",
            " [-1.68017329e+00 -1.61701072e+00 -1.01220772e+00  1.53752042e+00\n",
            "   1.95882960e+00  2.76420965e+00 -7.84061332e-01 -3.97313527e-01\n",
            "  -9.48199109e-01]\n",
            " [-1.64553055e+00  8.54852801e-01  1.69733493e+00  1.41017196e+00\n",
            "   1.57216886e+00  1.52865530e+00  5.47363571e-01  4.51507484e-01\n",
            "  -5.78290484e-01]\n",
            " [-1.61088780e+00 -5.87067586e-01 -4.31591436e-01 -7.97201366e-01\n",
            "  -9.96138662e-01 -2.24664966e+00  2.58559429e+00  2.18179647e+00\n",
            "   3.98391589e+00]\n",
            " [-1.57624505e+00 -1.61701072e+00  1.49024846e-01  1.62241939e+00\n",
            "   1.86766568e+00  2.62692583e+00  1.03555270e-01 -3.97313527e-01\n",
            "  -7.01593359e-01]\n",
            " [-1.54160230e+00  1.67880731e+00  1.31025741e+00 -5.84953931e-01\n",
            "  -7.10072586e-01  1.73458102e+00  7.11737016e-01  5.16801408e-01\n",
            "   1.39455552e+00]\n",
            " [-1.50695955e+00 -1.75090333e-01  1.50379617e+00  9.85677088e-01\n",
            "   1.05976479e+00 -5.30601951e-01 -2.90940997e-01 -4.62607451e-01\n",
            "  -9.48199109e-01]\n",
            " [-1.47231680e+00 -3.81078959e-01 -4.45139150e-02 -2.87807522e-01\n",
            "  -3.92570677e-01  1.11680385e+00  6.29550293e-01  8.75917990e-01\n",
            "   1.27125264e+00]\n",
            " [-1.43767406e+00  4.42875547e-01  1.11671865e+00 -3.72706496e-01\n",
            "  -5.74898506e-01  1.66593911e+00  1.08979594e+00  1.36562242e+00\n",
            "   1.14794977e+00]\n",
            " [-1.40303131e+00  1.67880731e+00 -1.39928524e+00 -5.42504444e-01\n",
            "  -7.13216169e-01  1.11680385e+00  1.86235113e+00  3.20919636e-01\n",
            "   2.13437277e+00]\n",
            " [-1.36838856e+00  1.47281868e+00  5.36102367e-01  2.64035809e-01\n",
            "   2.99017639e-01 -1.42294676e+00 -9.81309465e-01 -1.31142846e+00\n",
            "  -9.48199109e-01]\n",
            " [-1.33374581e+00  3.08982940e-02 -6.25130197e-01  3.06485296e-01\n",
            "   2.45576724e-01 -3.93318134e-01  3.78058923e-02 -2.99372641e-01\n",
            "  -4.54987609e-01]\n",
            " [-1.29910306e+00 -5.87067586e-01 -6.25130197e-01  1.49507093e+00\n",
            "   1.32068220e+00 -3.93318134e-01  1.96097520e+00  1.52885723e+00\n",
            "   1.64116127e+00]\n",
            " [-1.26446031e+00 -9.99044839e-01  7.29641128e-01  3.06485296e-01\n",
            "   2.51863890e-01 -1.28566294e+00 -4.38877098e-01 -2.66725679e-01\n",
            "  -1.44141061e+00]\n",
            " [-1.22981757e+00 -9.99044839e-01 -1.01220772e+00 -1.18009574e-01\n",
            "  -3.92570677e-01  7.04952398e-01  1.68154034e+00  4.51507484e-01\n",
            "   1.51785839e+00]\n",
            " [-1.19517482e+00  1.06084143e+00  1.49024846e-01  9.33888714e-03\n",
            "  -1.37940433e-01  7.73594306e-01  5.47363571e-01  1.20238761e+00\n",
            "   7.78041142e-01]\n",
            " [-1.16053207e+00 -1.41102209e+00 -4.31591436e-01 -7.55600868e-02\n",
            "  -5.62072686e-02 -2.56034318e-01 -8.99122743e-01 -1.11554669e+00\n",
            "  -7.01593359e-01]\n",
            " [-1.12588932e+00 -3.81078959e-01 -8.18668958e-01  4.76283244e-01\n",
            "   3.02161223e-01  9.79520031e-01  1.23773204e+00  7.45330142e-01\n",
            "   1.14794977e+00]\n",
            " [-1.09124657e+00  6.48864174e-01 -8.18668958e-01  1.41017196e+00\n",
            "   1.75135310e+00 -3.24676226e-01 -3.89565064e-01 -1.14819365e+00\n",
            "  -1.31810773e+00]\n",
            " [-1.05660382e+00  3.08982940e-02 -1.39928524e+00 -4.15155983e-01\n",
            "  -4.30293676e-01 -3.24676226e-01 -7.51186643e-01 -1.36137831e-01\n",
            "  -8.24896234e-01]\n",
            " [-1.02196108e+00 -1.75090333e-01 -8.18668958e-01 -4.57605470e-01\n",
            "  -5.74898506e-01  3.61742857e-01  4.93120334e-03  1.25037864e-01\n",
            "   4.08132516e-01]\n",
            " [-9.87318327e-01  3.08982940e-02  1.11671865e+00 -1.56129213e+00\n",
            "  -1.34821999e+00 -5.01085930e-02 -1.01418415e+00 -3.64666565e-01\n",
            "   5.31435391e-01]\n",
            " [-9.52675579e-01  6.48864174e-01  1.69733493e+00  2.64035809e-01\n",
            "   3.52081325e-03  2.93100948e-01  1.43498017e+00  1.92062077e+00\n",
            "   6.54738267e-01]\n",
            " [-9.18032831e-01  4.42875547e-01 -1.20574648e+00  1.70731837e+00\n",
            "   2.20402909e+00 -5.99243859e-01 -4.06002409e-01 -5.27901375e-01\n",
            "  -1.44141061e+00]\n",
            " [-8.83390082e-01 -1.61701072e+00 -1.01220772e+00  5.61182218e-01\n",
            "   6.35381048e-01  6.36310490e-01  3.17240748e-01  2.22978750e-01\n",
            "  -2.08381859e-01]\n",
            " [-8.48747334e-01  4.42875547e-01  1.69733493e+00  8.15879140e-01\n",
            "   6.60529714e-01  1.11680385e+00  1.66510300e+00  3.61826279e+00\n",
            "   1.14794977e+00]\n",
            " [-8.14104586e-01 -1.41102209e+00  1.11671865e+00  9.33888714e-03\n",
            "  -1.81950599e-01  1.55817132e-01  9.91171872e-01  1.03915280e+00\n",
            "   5.31435391e-01]\n",
            " [-7.79461837e-01 -1.75090333e-01  1.11671865e+00  1.07057606e+00\n",
            "   1.22951828e+00 -5.99243859e-01 -3.23815686e-01 -7.56430109e-01\n",
            "  -9.48199109e-01]\n",
            " [-7.44819089e-01 -3.81078959e-01 -6.25130197e-01  2.21586322e-01\n",
            "   9.15411444e-02  3.61742857e-01  7.11737016e-01 -5.54998353e-03\n",
            "   3.82238913e-02]\n",
            " [-7.10176341e-01 -1.20503347e+00 -4.31591436e-01  7.73429653e-01\n",
            "   7.92560211e-01 -3.24676226e-01 -1.75879586e-01 -6.25842261e-01\n",
            "  -4.54987609e-01]\n",
            " [-6.75533592e-01 -1.20503347e+00  7.29641128e-01  1.19792452e+00\n",
            "   1.21065678e+00  2.24459040e-01  1.02404656e+00  8.10624066e-01\n",
            "  -3.31684734e-01]\n",
            " [-6.40890844e-01  1.26683005e+00  1.50379617e+00 -7.97201366e-01\n",
            "  -8.23241583e-01  5.67668581e-01  4.15864815e-01  1.20238761e+00\n",
            "   1.64116127e+00]\n",
            " [-6.06248096e-01  6.48864174e-01 -4.45139150e-02  6.88530679e-01\n",
            "   6.16519548e-01  1.18544576e+00  3.82990126e-01  1.03915280e+00\n",
            "  -8.50789838e-02]\n",
            " [-5.71605347e-01 -1.20503347e+00  5.36102367e-01  1.32527298e+00\n",
            "   1.44328194e+00 -5.99243859e-01  7.44611705e-01 -2.66725679e-01\n",
            "  -2.08381859e-01]\n",
            " [-5.36962599e-01 -1.75090333e-01  9.23179889e-01  4.33833757e-01\n",
            "   3.27309889e-01  8.71752235e-02  4.81614193e-01  2.22978750e-01\n",
            "   3.82238913e-02]\n",
            " [-5.02319851e-01 -1.41102209e+00 -1.01220772e+00  5.61182218e-01\n",
            "   5.25355634e-01 -4.61960043e-01  1.19992615e-01 -1.03490869e-01\n",
            "  -9.48199109e-01]\n",
            " [-4.67677102e-01  2.36886921e-01 -1.20574648e+00 -1.18009574e-01\n",
            "  -2.19673598e-01 -3.24676226e-01 -2.74503653e-01 -1.36137831e-01\n",
            "  -4.54987609e-01]\n",
            " [-4.33034354e-01  8.54852801e-01 -1.39928524e+00 -5.84953931e-01\n",
            "  -5.62324173e-01 -8.73811492e-01 -1.45799246e+00 -1.50731023e+00\n",
            "  -7.01593359e-01]\n",
            " [-3.98391606e-01 -1.20503347e+00 -6.25130197e-01 -3.31105999e-02\n",
            "  -1.21971030e-02 -5.99243859e-01 -1.24430698e+00 -1.18084061e+00\n",
            "  -1.19480486e+00]\n",
            " [-3.63748857e-01 -1.41102209e+00 -8.18668958e-01 -3.72706496e-01\n",
            "  -4.52298759e-01 -5.01085930e-02 -1.15061411e-02 -6.91136185e-01\n",
            "  -8.50789838e-02]\n",
            " [-3.29106109e-01  1.47281868e+00 -4.31591436e-01 -4.57605470e-01\n",
            "  -4.39724426e-01 -1.42294676e+00 -1.09637088e+00 -4.95254413e-01\n",
            "  -1.07150198e+00]\n",
            " [-2.94463361e-01  4.42875547e-01  1.69733493e+00 -1.05189829e+00\n",
            "  -1.04329241e+00  1.39137148e+00 -7.72555190e-02 -1.03490869e-01\n",
            "   5.31435391e-01]\n",
            " [-2.59820612e-01 -1.20503347e+00 -1.39928524e+00  1.32527298e+00\n",
            "   1.26095412e+00 -8.05169584e-01  1.51716690e+00  1.23503457e+00\n",
            "  -2.08381859e-01]\n",
            " [-2.25177864e-01 -3.81078959e-01  5.36102367e-01 -4.15155983e-01\n",
            "  -4.96308924e-01  8.71752235e-02  2.84366059e-01  1.25037864e-01\n",
            "   4.08132516e-01]\n",
            " [-1.90535116e-01 -1.41102209e+00 -6.25130197e-01 -5.00054957e-01\n",
            "  -5.37175507e-01 -3.93318134e-01 -3.56690375e-01 -5.93195299e-01\n",
            "  -3.31684734e-01]\n",
            " [-1.55892367e-01  2.36886921e-01 -1.39928524e+00  1.15547504e+00\n",
            "   1.17293378e+00  4.99026673e-01  6.95299671e-01 -7.08439075e-02\n",
            "  -5.78290484e-01]\n",
            " [-1.21249619e-01  1.06084143e+00 -1.20574648e+00 -1.90088803e+00\n",
            "  -1.57455798e+00 -1.14837913e+00 -1.11280822e+00 -5.27901375e-01\n",
            "   3.82238913e-02]\n",
            " [-8.66068708e-02  6.48864174e-01 -8.18668958e-01 -4.57605470e-01\n",
            "  -5.27744757e-01  9.10878123e-01 -6.08181746e-02  6.47389256e-01\n",
            "   4.08132516e-01]\n",
            " [-5.19641225e-02  6.48864174e-01  5.36102367e-01 -7.97201366e-01\n",
            "  -7.98092917e-01  1.85333152e-02 -5.86813198e-01 -8.21724033e-01\n",
            "  -5.78290484e-01]\n",
            " [-1.73213742e-02  1.67880731e+00 -1.39928524e+00 -4.15155983e-01\n",
            "  -4.46011592e-01 -1.01109531e+00 -8.16936020e-01 -3.97313527e-01\n",
            "  -9.48199109e-01]\n",
            " [ 1.73213742e-02  4.42875547e-01  1.31025741e+00 -9.24549827e-01\n",
            "  -8.64108165e-01 -1.14837913e+00 -1.26074432e+00 -1.40936935e+00\n",
            "  -7.01593359e-01]\n",
            " [ 5.19641225e-02  4.42875547e-01  7.29641128e-01 -4.15155983e-01\n",
            "  -4.11432177e-01 -1.76615630e+00 -1.07993353e+00 -1.89907378e+00\n",
            "  -5.78290484e-01]\n",
            " [ 8.66068708e-02  1.67880731e+00 -6.25130197e-01 -8.82100340e-01\n",
            "  -8.32672333e-01 -1.35430485e+00 -1.29361901e+00 -2.01431755e-01\n",
            "  -4.54987609e-01]\n",
            " [ 1.21249619e-01 -5.87067586e-01  1.50379617e+00  9.85677088e-01\n",
            "   1.03775970e+00  8.42236215e-01  3.66552782e-01  5.16801408e-01\n",
            "  -2.08381859e-01]\n",
            " [ 1.55892367e-01  2.36886921e-01  1.31025741e+00  9.33888714e-03\n",
            "   3.18130626e-02 -8.05169584e-01 -9.15560087e-01 -1.01760580e+00\n",
            "  -9.48199109e-01]\n",
            " [ 1.90535116e-01  2.36886921e-01 -1.01220772e+00 -1.00944880e+00\n",
            "  -9.23836247e-01 -5.30601951e-01 -1.17855760e+00 -3.81969455e-02\n",
            "  -7.01593359e-01]\n",
            " [ 2.25177864e-01 -1.41102209e+00  1.49024846e-01  1.24037401e+00\n",
            "   1.41184611e+00  1.55817132e-01  4.93120334e-03 -3.81969455e-02\n",
            "  -5.78290484e-01]\n",
            " [ 2.59820612e-01  3.08982940e-02  3.42563607e-01 -3.31105999e-02\n",
            "  -1.44227600e-01  7.73594306e-01  1.69304648e-01  3.20919636e-01\n",
            "   4.08132516e-01]\n",
            " [ 2.94463361e-01  1.06084143e+00 -6.25130197e-01 -5.84953931e-01\n",
            "  -5.52893423e-01 -1.49158867e+00 -1.45799246e+00 -3.64666565e-01\n",
            "  -1.19480486e+00]\n",
            " [ 3.29106109e-01  1.26683005e+00  1.50379617e+00 -1.81598905e+00\n",
            "  -1.50225557e+00 -3.24676226e-01 -1.21143229e+00 -8.21724033e-01\n",
            "   9.01344017e-01]\n",
            " [ 3.63748857e-01 -3.81078959e-01 -4.45139150e-02 -1.34904470e+00\n",
            "  -1.22876382e+00  7.04952398e-01 -7.51186643e-01  2.63885394e+00\n",
            "   6.54738267e-01]\n",
            " [ 3.98391606e-01  1.67880731e+00 -6.25130197e-01 -1.77353957e+00\n",
            "  -1.51168632e+00  1.46001339e+00 -6.03250542e-01 -3.32019603e-01\n",
            "   4.08132516e-01]\n",
            " [ 4.33034354e-01 -9.99044839e-01  7.29641128e-01 -3.31105999e-02\n",
            "  -1.78807016e-01  1.55817132e-01  1.22129469e+00  5.97439404e-02\n",
            "   1.02464689e+00]\n",
            " [ 4.67677102e-01  1.47281868e+00 -2.38052676e-01 -1.60374162e+00\n",
            "  -1.38908657e+00 -1.76615630e+00 -6.36125231e-01  1.33297546e+00\n",
            "   6.54738267e-01]\n",
            " [ 5.02319851e-01 -1.75090333e-01  1.49024846e-01 -5.84953931e-01\n",
            "  -6.40913754e-01  6.36310490e-01 -1.15061411e-02 -7.08439075e-02\n",
            "   1.61526766e-01]\n",
            " [ 5.36962599e-01 -1.20503347e+00  5.36102367e-01  9.33888714e-03\n",
            "  -1.09648184e-01  9.79520031e-01  3.50115437e-01  5.97439404e-02\n",
            "   2.84829641e-01]\n",
            " [ 5.71605347e-01 -9.99044839e-01 -1.01220772e+00 -1.56129213e+00\n",
            "  -1.36393790e+00  8.71752235e-02 -8.00498676e-01 -6.91136185e-01\n",
            "   5.31435391e-01]\n",
            " [ 6.06248096e-01  2.36886921e-01 -1.20574648e+00 -1.05189829e+00\n",
            "  -9.70989996e-01 -1.49158867e+00 -1.31005635e+00 -1.34407542e+00\n",
            "  -9.48199109e-01]\n",
            " [ 6.40890844e-01 -1.75090333e-01 -2.38052676e-01 -1.60374162e+00\n",
            "  -1.42052240e+00  2.93100948e-01  2.35054026e-01  5.82095332e-01\n",
            "   1.88776702e+00]\n",
            " [ 6.75533592e-01  3.08982940e-02  5.36102367e-01 -6.69852905e-01\n",
            "  -6.28339421e-01 -3.24676226e-01 -1.22786963e+00 -1.11554669e+00\n",
            "  -9.48199109e-01]\n",
            " [ 7.10176341e-01  8.54852801e-01 -4.45139150e-02  1.15547504e+00\n",
            "   1.34268728e+00 -8.73811492e-01 -3.89565064e-01 -1.14819365e+00\n",
            "  -1.19480486e+00]\n",
            " [ 7.44819089e-01 -1.61701072e+00  1.50379617e+00 -1.60374162e+00\n",
            "  -1.44252748e+00 -3.24676226e-01  4.32302160e-01 -1.03490869e-01\n",
            "   3.12079577e+00]\n",
            " [ 7.79461837e-01  8.54852801e-01 -1.20574648e+00  7.30980166e-01\n",
            "   7.10827046e-01  2.93100948e-01  9.25422494e-01 -5.54998353e-03\n",
            "   3.82238913e-02]\n",
            " [ 8.14104586e-01  1.06084143e+00  1.31025741e+00 -2.87807522e-01\n",
            "  -3.73709177e-01 -1.18750501e-01  2.13685478e-02 -8.87017957e-01\n",
            "   1.61526766e-01]\n",
            " [ 8.48747334e-01  2.36886921e-01 -1.01220772e+00 -7.54751879e-01\n",
            "  -7.28934085e-01 -7.36527676e-01 -9.64872121e-01 -6.91136185e-01\n",
            "  -7.01593359e-01]\n",
            " [ 8.83390082e-01  8.54852801e-01 -4.45139150e-02  3.06485296e-01\n",
            "   3.61889304e-01 -7.36527676e-01 -7.01874609e-01 -4.29960489e-01\n",
            "  -1.31810773e+00]\n",
            " [ 9.18032831e-01 -1.41102209e+00 -2.38052676e-01 -3.72706496e-01\n",
            "  -4.52298759e-01  1.80322293e+00 -3.56690375e-01  1.52885723e+00\n",
            "   1.61526766e-01]\n",
            " [ 9.52675579e-01 -1.20503347e+00  5.36102367e-01  9.85677088e-01\n",
            "   9.52882957e-01  2.93100948e-01  1.45141752e+00  7.12683180e-01\n",
            "   2.84829641e-01]\n",
            " [ 9.87318327e-01 -1.75090333e-01 -4.45139150e-02  2.00446478e+00\n",
            "   1.70419935e+00  1.80322293e+00  3.58827230e+00  3.19385229e+00\n",
            "   2.01106989e+00]\n",
            " [ 1.02196108e+00  1.06084143e+00 -4.31591436e-01 -5.84953931e-01\n",
            "  -6.18908671e-01 -2.56034318e-01 -5.21063820e-01 -6.91136185e-01\n",
            "  -5.78290484e-01]\n",
            " [ 1.05660382e+00 -1.41102209e+00 -4.45139150e-02 -9.66999314e-01\n",
            "  -9.45841330e-01  4.99026673e-01 -5.37501164e-01 -2.99372641e-01\n",
            "   6.54738267e-01]\n",
            " [ 1.09124657e+00  3.08982940e-02  5.36102367e-01 -4.57605470e-01\n",
            "  -5.74898506e-01  3.61742857e-01  4.48739504e-01  2.70969784e-02\n",
            "   5.31435391e-01]\n",
            " [ 1.12588932e+00 -1.41102209e+00 -6.25130197e-01  3.19305041e+00\n",
            "   3.69408756e+00  2.24459040e-01  2.30615943e+00 -3.32019603e-01\n",
            "   4.08132516e-01]\n",
            " [ 1.16053207e+00  6.48864174e-01 -8.18668958e-01  1.36772247e+00\n",
            "   1.34897445e+00  1.32272957e+00  8.59673116e-01 -9.84958843e-01\n",
            "   9.01344017e-01]\n",
            " [ 1.19517482e+00  1.67880731e+00  5.36102367e-01 -8.39650853e-01\n",
            "  -8.16954417e-01 -3.93318134e-01 -8.99122743e-01  4.84154446e-01\n",
            "  -5.78290484e-01]\n",
            " [ 1.22981757e+00 -5.87067586e-01 -1.01220772e+00  1.02812657e+00\n",
            "   1.16979020e+00 -2.56034318e-01 -3.56690375e-01  6.47389256e-01\n",
            "  -5.78290484e-01]\n",
            " [ 1.26446031e+00  4.42875547e-01  1.50379617e+00 -1.18009574e-01\n",
            "  -1.72519849e-01 -5.99243859e-01 -4.55314442e-01  4.84154446e-01\n",
            "  -1.07150198e+00]\n",
            " [ 1.29910306e+00  4.42875547e-01 -1.39928524e+00  1.07057606e+00\n",
            "   1.17293378e+00 -8.73811492e-01 -9.36928635e-02  5.97439404e-02\n",
            "  -1.07150198e+00]\n",
            " [ 1.33374581e+00 -1.20503347e+00 -1.39928524e+00 -7.12302392e-01\n",
            "  -7.44652002e-01 -1.01109531e+00 -5.37501164e-01 -5.54998353e-03\n",
            "  -8.50789838e-02]\n",
            " [ 1.36838856e+00 -9.99044839e-01  9.23179889e-01 -3.31105999e-02\n",
            "  -1.59945516e-01  7.04952398e-01  1.19992615e-01  6.14742294e-01\n",
            "  -2.08381859e-01]\n",
            " [ 1.40303131e+00  1.26683005e+00  1.69733493e+00 -7.55600868e-02\n",
            "  -1.25366100e-01 -8.73811492e-01 -6.68999920e-01 -7.89077071e-01\n",
            "  -7.01593359e-01]\n",
            " [ 1.43767406e+00 -1.41102209e+00 -1.20574648e+00  1.36687348e-01\n",
            "   7.89668114e-02 -7.36527676e-01 -3.73127720e-01 -6.91136185e-01\n",
            "  -4.54987609e-01]\n",
            " [ 1.47231680e+00 -5.87067586e-01 -8.18668958e-01 -5.00054957e-01\n",
            "  -4.74303842e-01 -1.97208202e+00 -1.24430698e+00 -1.76848593e+00\n",
            "  -1.44141061e+00]\n",
            " [ 1.50695955e+00 -1.41102209e+00 -2.38052676e-01 -4.15155983e-01\n",
            "  -4.64873092e-01 -5.01085930e-02 -7.34749298e-01 -9.52311881e-01\n",
            "  -9.48199109e-01]\n",
            " [ 1.54160230e+00  1.06084143e+00  1.50379617e+00  1.36687348e-01\n",
            "   9.80797976e-03  8.71752235e-02  4.65176849e-01 -2.34078717e-01\n",
            "  -2.08381859e-01]\n",
            " [ 1.57624505e+00  1.26683005e+00 -4.31591436e-01  1.49507093e+00\n",
            "   1.76392744e+00 -8.05169584e-01  7.06805813e-02  5.49448370e-01\n",
            "  -1.07150198e+00]\n",
            " [ 1.61088780e+00  1.06084143e+00 -8.18668958e-01 -7.97201366e-01\n",
            "  -7.91805751e-01  1.55817132e-01 -9.15560087e-01 -1.03490869e-01\n",
            "   1.61526766e-01]\n",
            " [ 1.64553055e+00  4.42875547e-01  1.69733493e+00 -1.47639316e+00\n",
            "  -1.28220474e+00 -5.01085930e-02 -1.21143229e+00 -1.89907378e+00\n",
            "   5.31435391e-01]\n",
            " [ 1.68017329e+00  8.54852801e-01  1.11671865e+00 -9.66999314e-01\n",
            "  -9.11261914e-01 -8.73811492e-01 -8.49810709e-01 -1.01760580e+00\n",
            "   1.61526766e-01]\n",
            " [ 1.71481604e+00 -1.75090333e-01  1.69733493e+00 -1.18009574e-01\n",
            "  -1.88237765e-01 -3.24676226e-01 -2.08754275e-01 -1.68784793e-01\n",
            "  -8.50789838e-02]]\n"
          ],
          "name": "stdout"
        }
      ]
    },
    {
      "cell_type": "code",
      "metadata": {
        "id": "WAhXzxVXzpgI",
        "colab_type": "code",
        "colab": {}
      },
      "source": [
        "#Splitting the variables into into test and training sets\n",
        "from sklearn.model_selection import train_test_split \n",
        "x_train,x_test,y_train,y_test = train_test_split(Xnorm,y,test_size = 0.1,random_state=0)"
      ],
      "execution_count": null,
      "outputs": []
    },
    {
      "cell_type": "code",
      "metadata": {
        "id": "yy99_y3rztz-",
        "colab_type": "code",
        "colab": {
          "base_uri": "https://localhost:8080/",
          "height": 34
        },
        "outputId": "b2294c1f-6741-4e66-a8b1-5bed51368bf1"
      },
      "source": [
        "# Linear Regression Model\n",
        "\n",
        "from sklearn.linear_model import LinearRegression\n",
        "\n",
        "classifier_lr = LinearRegression()\n",
        "classifier_lr.fit(x_train,y_train)\n",
        "y_lr_pred = classifier_lr.predict(x_test)\n",
        "\n",
        "#Result\n",
        "\n",
        "classifier_lr.score(x_test,y_test)*100"
      ],
      "execution_count": null,
      "outputs": [
        {
          "output_type": "execute_result",
          "data": {
            "text/plain": [
              "20.590820572351422"
            ]
          },
          "metadata": {
            "tags": []
          },
          "execution_count": 11
        }
      ]
    },
    {
      "cell_type": "code",
      "metadata": {
        "id": "HcjOv-nMzz1H",
        "colab_type": "code",
        "colab": {
          "base_uri": "https://localhost:8080/",
          "height": 34
        },
        "outputId": "d55be3a4-5af3-43c8-8ba0-650a06109dd4"
      },
      "source": [
        "#Logistic Regression Model\n",
        "\n",
        "from sklearn.linear_model import LogisticRegression\n",
        "log_model = LogisticRegression() \n",
        "log_model.fit(x_train, y_train) \n",
        "y_pred_log = log_model.predict(x_test) \n",
        "   \n",
        "  \n",
        "log_model.score(x_test, y_pred_log)*100"
      ],
      "execution_count": null,
      "outputs": [
        {
          "output_type": "execute_result",
          "data": {
            "text/plain": [
              "100.0"
            ]
          },
          "metadata": {
            "tags": []
          },
          "execution_count": 12
        }
      ]
    },
    {
      "cell_type": "code",
      "metadata": {
        "id": "vc2Ny7vJ0BNd",
        "colab_type": "code",
        "colab": {
          "base_uri": "https://localhost:8080/",
          "height": 34
        },
        "outputId": "032ff7c0-4285-46b9-9710-c930fe7c81e5"
      },
      "source": [
        "# XG Boost\n",
        "from xgboost import XGBClassifier\n",
        "xgboost_model = XGBClassifier()\n",
        "xgboost_model.fit(x_train, y_train)\n",
        "y_pred_xg = xgboost_model.predict(x_test)\n",
        "\n",
        "xgboost_model.score(x_test , y_pred_xg)*100"
      ],
      "execution_count": null,
      "outputs": [
        {
          "output_type": "execute_result",
          "data": {
            "text/plain": [
              "100.0"
            ]
          },
          "metadata": {
            "tags": []
          },
          "execution_count": 13
        }
      ]
    },
    {
      "cell_type": "code",
      "metadata": {
        "id": "UbQhySJo0G3r",
        "colab_type": "code",
        "colab": {
          "base_uri": "https://localhost:8080/",
          "height": 34
        },
        "outputId": "9694baf5-e606-44ce-8654-9d73762df6e9"
      },
      "source": [
        "# Gradient Boosting Classifier\n",
        "\n",
        "from sklearn.ensemble import GradientBoostingClassifier\n",
        "gb_model = GradientBoostingClassifier(random_state=0)\n",
        "gb_model.fit(x_train, y_train)\n",
        "y_pred_gb = gb_model.predict(x_test)\n",
        "\n",
        "gb_model.score(x_test , y_pred_gb)*100"
      ],
      "execution_count": null,
      "outputs": [
        {
          "output_type": "execute_result",
          "data": {
            "text/plain": [
              "100.0"
            ]
          },
          "metadata": {
            "tags": []
          },
          "execution_count": 14
        }
      ]
    },
    {
      "cell_type": "code",
      "metadata": {
        "id": "BTdRsH9q0L9l",
        "colab_type": "code",
        "colab": {
          "base_uri": "https://localhost:8080/",
          "height": 34
        },
        "outputId": "ea89c601-37af-4515-c113-44bfe1ba9ae3"
      },
      "source": [
        "#Naive Bayes Classification\n",
        "\n",
        "from sklearn.naive_bayes import GaussianNB\n",
        "classifier_naive = GaussianNB()\n",
        "classifier_naive.fit(x_train, y_train)\n",
        "y_naive_pred = classifier_naive.predict(x_test)\n",
        "\n",
        "#Accuracy\n",
        "\n",
        "classifier_naive.score(x_test,y_test)*100"
      ],
      "execution_count": null,
      "outputs": [
        {
          "output_type": "execute_result",
          "data": {
            "text/plain": [
              "60.0"
            ]
          },
          "metadata": {
            "tags": []
          },
          "execution_count": 15
        }
      ]
    },
    {
      "cell_type": "code",
      "metadata": {
        "id": "uc8rmtBO0PXz",
        "colab_type": "code",
        "colab": {
          "base_uri": "https://localhost:8080/",
          "height": 34
        },
        "outputId": "9fbffe99-f8ad-4b49-f90b-341c21a00f0b"
      },
      "source": [
        "#Random Forest Classifier\n",
        "\n",
        "from sklearn.ensemble import RandomForestClassifier\n",
        "\n",
        "classifier_rfc = RandomForestClassifier(n_estimators=20, random_state=0)\n",
        "classifier_rfc.fit(x_train, y_train)\n",
        "y_rfc_pred = classifier_rfc.predict(x_test)\n",
        "\n",
        "#accuracy\n",
        "from sklearn.metrics import accuracy_score\n",
        "accuracy_score(y_test,y_rfc_pred)*100"
      ],
      "execution_count": null,
      "outputs": [
        {
          "output_type": "execute_result",
          "data": {
            "text/plain": [
              "100.0"
            ]
          },
          "metadata": {
            "tags": []
          },
          "execution_count": 16
        }
      ]
    },
    {
      "cell_type": "code",
      "metadata": {
        "id": "_r60wZco0UTI",
        "colab_type": "code",
        "colab": {
          "base_uri": "https://localhost:8080/",
          "height": 34
        },
        "outputId": "c432916d-ea0b-4e34-dfd5-1710fffe6179"
      },
      "source": [
        "#Decision Tree Classifier\n",
        "\n",
        "from sklearn.tree import DecisionTreeClassifier\n",
        "classifier_dtc = DecisionTreeClassifier()\n",
        "classifier_dtc.fit(x_train,y_train)\n",
        "y_dtc_pred = classifier_dtc.predict(x_test)\n",
        "\n",
        "#accuracy\n",
        "accuracy_score(y_test,y_dtc_pred)*100"
      ],
      "execution_count": null,
      "outputs": [
        {
          "output_type": "execute_result",
          "data": {
            "text/plain": [
              "90.0"
            ]
          },
          "metadata": {
            "tags": []
          },
          "execution_count": 17
        }
      ]
    },
    {
      "cell_type": "code",
      "metadata": {
        "id": "41RijnwM0X4v",
        "colab_type": "code",
        "colab": {
          "base_uri": "https://localhost:8080/",
          "height": 34
        },
        "outputId": "d8ed1e2c-7ee3-4ca6-efbe-fb15697907ad"
      },
      "source": [
        "#Simple Support Vector Classification\n",
        "\n",
        "from sklearn.svm import SVC\n",
        "\n",
        "classifier_svm = SVC()\n",
        "classifier_svm.fit(x_train, y_train)\n",
        "y_svm_pred = classifier_svm.predict(x_test)\n",
        "\n",
        "#Accuracy\n",
        "classifier_svm.score(x_test,y_test) *100"
      ],
      "execution_count": null,
      "outputs": [
        {
          "output_type": "execute_result",
          "data": {
            "text/plain": [
              "100.0"
            ]
          },
          "metadata": {
            "tags": []
          },
          "execution_count": 18
        }
      ]
    },
    {
      "cell_type": "code",
      "metadata": {
        "id": "of_deYGM0dyx",
        "colab_type": "code",
        "colab": {
          "base_uri": "https://localhost:8080/",
          "height": 34
        },
        "outputId": "3089bba3-45b0-48da-9b82-5698efcd1450"
      },
      "source": [
        "#Kernel Support Vector Classification\n",
        "\n",
        "from sklearn.svm import SVC\n",
        "\n",
        "classifier_svc = SVC(kernel='linear',random_state=0)\n",
        "classifier_svc.fit(x_train,y_train)\n",
        "y_svc_pred = classifier_svc.predict(x_test)\n",
        "\n",
        "#accuracy\n",
        "classifier_svc.score(x_test,y_test)*100"
      ],
      "execution_count": null,
      "outputs": [
        {
          "output_type": "execute_result",
          "data": {
            "text/plain": [
              "100.0"
            ]
          },
          "metadata": {
            "tags": []
          },
          "execution_count": 19
        }
      ]
    },
    {
      "cell_type": "code",
      "metadata": {
        "id": "EgjgZUGn0hYZ",
        "colab_type": "code",
        "colab": {
          "base_uri": "https://localhost:8080/",
          "height": 34
        },
        "outputId": "d3cdaa15-b5e2-4093-9bf9-7833f60728a0"
      },
      "source": [
        "#Stochastic Gradient Descent Classifier\n",
        "\n",
        "from sklearn.linear_model import SGDClassifier\n",
        "\n",
        "classifier_sgd= SGDClassifier(loss='modified_huber',shuffle=True,random_state=0)\n",
        "classifier_sgd.fit(x_train,y_train)\n",
        "y_sgd_pred = classifier_sgd.predict(x_test)\n",
        "\n",
        "#accuracy\n",
        "accuracy_score(y_test,y_sgd_pred)*100"
      ],
      "execution_count": null,
      "outputs": [
        {
          "output_type": "execute_result",
          "data": {
            "text/plain": [
              "70.0"
            ]
          },
          "metadata": {
            "tags": []
          },
          "execution_count": 20
        }
      ]
    },
    {
      "cell_type": "code",
      "metadata": {
        "id": "VNrJ4YTy0m_H",
        "colab_type": "code",
        "colab": {
          "base_uri": "https://localhost:8080/",
          "height": 1000
        },
        "outputId": "d84a8b3f-6d69-48e4-f820-cd65528aad56"
      },
      "source": [
        "#Results of the classifications\n",
        "\n",
        "con_log = cm(y_test,y_pred_log)\n",
        "con_xg = cm(y_test,y_pred_xg)\n",
        "con_gb = cm(y_test,y_pred_gb)\n",
        "con_naive = cm(y_test,y_naive_pred)\n",
        "con_rfc = cm(y_test,y_rfc_pred)\n",
        "con_dtc = cm(y_test,y_dtc_pred)\n",
        "con_svm = cm(y_test,y_svm_pred)\n",
        "con_svc = cm(y_test,y_svc_pred)\n",
        "con_sgd = cm(y_test,y_sgd_pred)\n",
        "\n",
        "\n",
        "print(\"LOGISTIC REGRESSION MODEL\\n\",rep(y_test,y_pred_log),\"\\n\", con_log ,\"\\n\")\n",
        "print(\"XG BOOST\\n\",rep(y_test,y_pred_xg),\"\\n\", con_xg ,\"\\n\")\n",
        "print(\"GRADIENT BOOSTING CLASSIFIER\\n\",rep(y_test,y_pred_gb),\"\\n\", con_gb ,\"\\n\")\n",
        "print(\"NAIVE BAYES RESULTS\\n\",rep(y_test,y_naive_pred),\"\\n\", con_naive ,\"\\n\")\n",
        "print(\"RANDOM FOREST CLASSIFIER RESULTS\\n\",rep(y_test,y_rfc_pred),\"\\n\" , con_rfc, \"\\n\")\n",
        "print(\"DECISION TREE RESULTS\\n\",rep(y_test,y_dtc_pred),\"\\n\" , con_dtc , \"\\n\")\n",
        "print(\"SIMPLE SUPPORT VECTOR CLASSIFICATION\\n\",rep(y_test,y_svm_pred),\"\\n\", con_svm , \"\\n\")\n",
        "print(\"KERNEL SUPPORT VECTOR CLASSIFICATION\\n\",rep(y_test,y_svc_pred),\"\\n\", con_svc , \"\\n\")\n",
        "print(\"STOCHASTIC GRADIENT DESCENT RESULTS\\n\",rep(y_test,y_sgd_pred),\"\\n\", con_sgd , \"\\n\")"
      ],
      "execution_count": null,
      "outputs": [
        {
          "output_type": "stream",
          "text": [
            "LOGISTIC REGRESSION MODEL\n",
            "               precision    recall  f1-score   support\n",
            "\n",
            "           0       1.00      1.00      1.00         2\n",
            "           1       1.00      1.00      1.00         8\n",
            "\n",
            "    accuracy                           1.00        10\n",
            "   macro avg       1.00      1.00      1.00        10\n",
            "weighted avg       1.00      1.00      1.00        10\n",
            " \n",
            " [[2 0]\n",
            " [0 8]] \n",
            "\n",
            "XG BOOST\n",
            "               precision    recall  f1-score   support\n",
            "\n",
            "           0       0.67      1.00      0.80         2\n",
            "           1       1.00      0.88      0.93         8\n",
            "\n",
            "    accuracy                           0.90        10\n",
            "   macro avg       0.83      0.94      0.87        10\n",
            "weighted avg       0.93      0.90      0.91        10\n",
            " \n",
            " [[2 0]\n",
            " [1 7]] \n",
            "\n",
            "GRADIENT BOOSTING CLASSIFIER\n",
            "               precision    recall  f1-score   support\n",
            "\n",
            "           0       1.00      1.00      1.00         2\n",
            "           1       1.00      1.00      1.00         8\n",
            "\n",
            "    accuracy                           1.00        10\n",
            "   macro avg       1.00      1.00      1.00        10\n",
            "weighted avg       1.00      1.00      1.00        10\n",
            " \n",
            " [[2 0]\n",
            " [0 8]] \n",
            "\n",
            "NAIVE BAYES RESULTS\n",
            "               precision    recall  f1-score   support\n",
            "\n",
            "           0       0.33      1.00      0.50         2\n",
            "           1       1.00      0.50      0.67         8\n",
            "\n",
            "    accuracy                           0.60        10\n",
            "   macro avg       0.67      0.75      0.58        10\n",
            "weighted avg       0.87      0.60      0.63        10\n",
            " \n",
            " [[2 0]\n",
            " [4 4]] \n",
            "\n",
            "RANDOM FOREST CLASSIFIER RESULTS\n",
            "               precision    recall  f1-score   support\n",
            "\n",
            "           0       1.00      1.00      1.00         2\n",
            "           1       1.00      1.00      1.00         8\n",
            "\n",
            "    accuracy                           1.00        10\n",
            "   macro avg       1.00      1.00      1.00        10\n",
            "weighted avg       1.00      1.00      1.00        10\n",
            " \n",
            " [[2 0]\n",
            " [0 8]] \n",
            "\n",
            "DECISION TREE RESULTS\n",
            "               precision    recall  f1-score   support\n",
            "\n",
            "           0       0.67      1.00      0.80         2\n",
            "           1       1.00      0.88      0.93         8\n",
            "\n",
            "    accuracy                           0.90        10\n",
            "   macro avg       0.83      0.94      0.87        10\n",
            "weighted avg       0.93      0.90      0.91        10\n",
            " \n",
            " [[2 0]\n",
            " [1 7]] \n",
            "\n",
            "SIMPLE SUPPORT VECTOR CLASSIFICATION\n",
            "               precision    recall  f1-score   support\n",
            "\n",
            "           0       1.00      1.00      1.00         2\n",
            "           1       1.00      1.00      1.00         8\n",
            "\n",
            "    accuracy                           1.00        10\n",
            "   macro avg       1.00      1.00      1.00        10\n",
            "weighted avg       1.00      1.00      1.00        10\n",
            " \n",
            " [[2 0]\n",
            " [0 8]] \n",
            "\n",
            "KERNEL SUPPORT VECTOR CLASSIFICATION\n",
            "               precision    recall  f1-score   support\n",
            "\n",
            "           0       1.00      1.00      1.00         2\n",
            "           1       1.00      1.00      1.00         8\n",
            "\n",
            "    accuracy                           1.00        10\n",
            "   macro avg       1.00      1.00      1.00        10\n",
            "weighted avg       1.00      1.00      1.00        10\n",
            " \n",
            " [[2 0]\n",
            " [0 8]] \n",
            "\n",
            "STOCHASTIC GRADIENT DESCENT RESULTS\n",
            "               precision    recall  f1-score   support\n",
            "\n",
            "           0       0.40      1.00      0.57         2\n",
            "           1       1.00      0.62      0.77         8\n",
            "\n",
            "    accuracy                           0.70        10\n",
            "   macro avg       0.70      0.81      0.67        10\n",
            "weighted avg       0.88      0.70      0.73        10\n",
            " \n",
            " [[2 0]\n",
            " [3 5]] \n",
            "\n"
          ],
          "name": "stdout"
        }
      ]
    },
    {
      "cell_type": "code",
      "metadata": {
        "id": "Bmhgb9g19q3s",
        "colab_type": "code",
        "colab": {}
      },
      "source": [
        ""
      ],
      "execution_count": null,
      "outputs": []
    },
    {
      "cell_type": "code",
      "metadata": {
        "id": "DzCT8HUm0u0j",
        "colab_type": "code",
        "colab": {
          "base_uri": "https://localhost:8080/",
          "height": 419
        },
        "outputId": "71005eae-0da7-4116-9a96-30f2b2852994"
      },
      "source": [
        "predicted_class= classifier_svc.predict(x)\n",
        "data['Predicted diagnosis_result']= predicted_class\n",
        "data[['diagnosis_result','Predicted diagnosis_result']]\n"
      ],
      "execution_count": null,
      "outputs": [
        {
          "output_type": "execute_result",
          "data": {
            "text/html": [
              "<div>\n",
              "<style scoped>\n",
              "    .dataframe tbody tr th:only-of-type {\n",
              "        vertical-align: middle;\n",
              "    }\n",
              "\n",
              "    .dataframe tbody tr th {\n",
              "        vertical-align: top;\n",
              "    }\n",
              "\n",
              "    .dataframe thead th {\n",
              "        text-align: right;\n",
              "    }\n",
              "</style>\n",
              "<table border=\"1\" class=\"dataframe\">\n",
              "  <thead>\n",
              "    <tr style=\"text-align: right;\">\n",
              "      <th></th>\n",
              "      <th>diagnosis_result</th>\n",
              "      <th>Predicted diagnosis_result</th>\n",
              "    </tr>\n",
              "  </thead>\n",
              "  <tbody>\n",
              "    <tr>\n",
              "      <th>0</th>\n",
              "      <td>1</td>\n",
              "      <td>1</td>\n",
              "    </tr>\n",
              "    <tr>\n",
              "      <th>1</th>\n",
              "      <td>0</td>\n",
              "      <td>1</td>\n",
              "    </tr>\n",
              "    <tr>\n",
              "      <th>2</th>\n",
              "      <td>1</td>\n",
              "      <td>1</td>\n",
              "    </tr>\n",
              "    <tr>\n",
              "      <th>3</th>\n",
              "      <td>1</td>\n",
              "      <td>1</td>\n",
              "    </tr>\n",
              "    <tr>\n",
              "      <th>4</th>\n",
              "      <td>1</td>\n",
              "      <td>1</td>\n",
              "    </tr>\n",
              "    <tr>\n",
              "      <th>...</th>\n",
              "      <td>...</td>\n",
              "      <td>...</td>\n",
              "    </tr>\n",
              "    <tr>\n",
              "      <th>95</th>\n",
              "      <td>1</td>\n",
              "      <td>1</td>\n",
              "    </tr>\n",
              "    <tr>\n",
              "      <th>96</th>\n",
              "      <td>0</td>\n",
              "      <td>1</td>\n",
              "    </tr>\n",
              "    <tr>\n",
              "      <th>97</th>\n",
              "      <td>0</td>\n",
              "      <td>1</td>\n",
              "    </tr>\n",
              "    <tr>\n",
              "      <th>98</th>\n",
              "      <td>0</td>\n",
              "      <td>1</td>\n",
              "    </tr>\n",
              "    <tr>\n",
              "      <th>99</th>\n",
              "      <td>1</td>\n",
              "      <td>1</td>\n",
              "    </tr>\n",
              "  </tbody>\n",
              "</table>\n",
              "<p>100 rows × 2 columns</p>\n",
              "</div>"
            ],
            "text/plain": [
              "    diagnosis_result  Predicted diagnosis_result\n",
              "0                  1                           1\n",
              "1                  0                           1\n",
              "2                  1                           1\n",
              "3                  1                           1\n",
              "4                  1                           1\n",
              "..               ...                         ...\n",
              "95                 1                           1\n",
              "96                 0                           1\n",
              "97                 0                           1\n",
              "98                 0                           1\n",
              "99                 1                           1\n",
              "\n",
              "[100 rows x 2 columns]"
            ]
          },
          "metadata": {
            "tags": []
          },
          "execution_count": 22
        }
      ]
    },
    {
      "cell_type": "code",
      "metadata": {
        "id": "zf5C62Nb1Kb2",
        "colab_type": "code",
        "colab": {}
      },
      "source": [
        ""
      ],
      "execution_count": null,
      "outputs": []
    }
  ]
}